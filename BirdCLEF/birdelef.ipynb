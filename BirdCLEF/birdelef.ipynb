{
 "cells": [
  {
   "cell_type": "code",
   "execution_count": 276,
   "metadata": {
    "_cell_guid": "b1076dfc-b9ad-4769-8c92-a6c4dae69d19",
    "_uuid": "8f2839f25d086af736a60e9eeb907d3b93b6e0e5",
    "execution": {
     "iopub.execute_input": "2024-06-10T16:52:18.582128Z",
     "iopub.status.busy": "2024-06-10T16:52:18.581729Z",
     "iopub.status.idle": "2024-06-10T16:52:18.588291Z",
     "shell.execute_reply": "2024-06-10T16:52:18.586989Z",
     "shell.execute_reply.started": "2024-06-10T16:52:18.582097Z"
    },
    "trusted": true
   },
   "outputs": [],
   "source": [
    "# This Python 3 environment comes with many helpful analytics libraries installed\n",
    "# It is defined by the kaggle/python Docker image: https://github.com/kaggle/docker-python\n",
    "# For example, here's several helpful packages to load\n",
    "\n",
    "import numpy as np # linear algebra\n",
    "import pandas as pd # data processing, CSV file I/O (e.g. pd.read_csv)\n",
    "\n",
    "# Input data files are available in the read-only \"../input/\" directory\n",
    "# For example, running this (by clicking run or pressing Shift+Enter) will list all files under the input directory\n",
    "\n",
    "# import os\n",
    "# for dirname, _, filenames in os.walk('/kaggle/input'):\n",
    "#     for filename in filenames:\n",
    "#         print(os.path.join(dirname, filename))\n",
    "\n",
    "# You can write up to 20GB to the current directory (/kaggle/working/) that gets preserved as output when you create a version using \"Save & Run All\" \n",
    "# You can also write temporary files to /kaggle/temp/, but they won't be saved outside of the current session"
   ]
  },
  {
   "cell_type": "code",
   "execution_count": 277,
   "metadata": {
    "execution": {
     "iopub.execute_input": "2024-06-10T16:52:18.591611Z",
     "iopub.status.busy": "2024-06-10T16:52:18.591268Z",
     "iopub.status.idle": "2024-06-10T16:52:18.613200Z",
     "shell.execute_reply": "2024-06-10T16:52:18.611972Z",
     "shell.execute_reply.started": "2024-06-10T16:52:18.591583Z"
    },
    "trusted": true
   },
   "outputs": [
    {
     "name": "stderr",
     "output_type": "stream",
     "text": [
      "/tmp/ipykernel_33/1585041062.py:23: MatplotlibDeprecationWarning: The get_cmap function was deprecated in Matplotlib 3.7 and will be removed two minor releases later. Use ``matplotlib.colormaps[name]`` or ``matplotlib.colormaps.get_cmap(obj)`` instead.\n",
      "  cmap = mpl.cm.get_cmap('coolwarm')\n"
     ]
    }
   ],
   "source": [
    "import os\n",
    "os.environ[\"KERAS_BACKEND\"] = \"tensorflow\"  # \"jax\" or \"tensorflow\" or \"torch\" \n",
    "\n",
    "import keras_cv\n",
    "import keras\n",
    "import keras.backend as K\n",
    "import tensorflow as tf\n",
    "import tensorflow_io as tfio\n",
    "\n",
    "import numpy as np \n",
    "import pandas as pd\n",
    "\n",
    "from glob import glob\n",
    "from tqdm import tqdm\n",
    "\n",
    "import librosa\n",
    "import IPython.display as ipd\n",
    "import librosa.display as lid\n",
    "\n",
    "import matplotlib.pyplot as plt\n",
    "import matplotlib as mpl\n",
    "\n",
    "cmap = mpl.cm.get_cmap('coolwarm')"
   ]
  },
  {
   "cell_type": "code",
   "execution_count": 278,
   "metadata": {
    "execution": {
     "iopub.execute_input": "2024-06-10T16:52:18.616004Z",
     "iopub.status.busy": "2024-06-10T16:52:18.615446Z",
     "iopub.status.idle": "2024-06-10T16:52:18.625857Z",
     "shell.execute_reply": "2024-06-10T16:52:18.624676Z",
     "shell.execute_reply.started": "2024-06-10T16:52:18.615965Z"
    },
    "trusted": true
   },
   "outputs": [
    {
     "name": "stdout",
     "output_type": "stream",
     "text": [
      "TensorFlow: 2.15.0\n",
      "Keras: 3.3.3\n",
      "KerasCV: 0.9.0\n"
     ]
    }
   ],
   "source": [
    "print(\"TensorFlow:\", tf.__version__)\n",
    "print(\"Keras:\", keras.__version__)\n",
    "print(\"KerasCV:\", keras_cv.__version__)"
   ]
  },
  {
   "cell_type": "code",
   "execution_count": 279,
   "metadata": {
    "execution": {
     "iopub.execute_input": "2024-06-10T16:52:18.628327Z",
     "iopub.status.busy": "2024-06-10T16:52:18.627444Z",
     "iopub.status.idle": "2024-06-10T16:52:18.638721Z",
     "shell.execute_reply": "2024-06-10T16:52:18.637560Z",
     "shell.execute_reply.started": "2024-06-10T16:52:18.628284Z"
    },
    "trusted": true
   },
   "outputs": [],
   "source": [
    "class CFG:\n",
    "    seed = 42\n",
    "    \n",
    "    # Input image size and batch size\n",
    "    img_size = [128, 384]\n",
    "    batch_size = 64\n",
    "    \n",
    "    # Audio duration, sample rate, and length\n",
    "    duration = 15 # second\n",
    "    sample_rate = 32000\n",
    "    audio_len = duration*sample_rate\n",
    "    \n",
    "    # STFT parameters\n",
    "    nfft = 2028\n",
    "    window = 2048\n",
    "    hop_length = audio_len // (img_size[1] - 1)\n",
    "    fmin = 20\n",
    "    fmax = 16000\n",
    "    \n",
    "    # Number of epochs, model name\n",
    "    epochs = 5\n",
    "    preset = 'efficientnetv2_b2_imagenet'\n",
    "    \n",
    "    # Data augmentation parameters\n",
    "    augment=True\n",
    "\n",
    "    # Class Labels for BirdCLEF 24\n",
    "    class_names = sorted(os.listdir('/kaggle/input/birdclef-2024/train_audio/'))\n",
    "    num_classes = len(class_names)\n",
    "    class_labels = list(range(num_classes))\n",
    "    label2name = dict(zip(class_labels, class_names))\n",
    "    name2label = {v:k for k,v in label2name.items()}"
   ]
  },
  {
   "cell_type": "code",
   "execution_count": 280,
   "metadata": {
    "execution": {
     "iopub.execute_input": "2024-06-10T16:52:18.640909Z",
     "iopub.status.busy": "2024-06-10T16:52:18.640566Z",
     "iopub.status.idle": "2024-06-10T16:52:18.653403Z",
     "shell.execute_reply": "2024-06-10T16:52:18.652119Z",
     "shell.execute_reply.started": "2024-06-10T16:52:18.640881Z"
    },
    "trusted": true
   },
   "outputs": [],
   "source": [
    "tf.keras.utils.set_random_seed(CFG.seed)"
   ]
  },
  {
   "cell_type": "code",
   "execution_count": 281,
   "metadata": {
    "execution": {
     "iopub.execute_input": "2024-06-10T16:52:18.655554Z",
     "iopub.status.busy": "2024-06-10T16:52:18.655099Z",
     "iopub.status.idle": "2024-06-10T16:52:18.663859Z",
     "shell.execute_reply": "2024-06-10T16:52:18.662630Z",
     "shell.execute_reply.started": "2024-06-10T16:52:18.655515Z"
    },
    "trusted": true
   },
   "outputs": [],
   "source": [
    "BASE_PATH = '/kaggle/input/birdclef-2024'\n"
   ]
  },
  {
   "cell_type": "code",
   "execution_count": 282,
   "metadata": {
    "execution": {
     "iopub.execute_input": "2024-06-10T16:52:18.665662Z",
     "iopub.status.busy": "2024-06-10T16:52:18.665239Z",
     "iopub.status.idle": "2024-06-10T16:52:18.674897Z",
     "shell.execute_reply": "2024-06-10T16:52:18.673787Z",
     "shell.execute_reply.started": "2024-06-10T16:52:18.665624Z"
    },
    "trusted": true
   },
   "outputs": [],
   "source": [
    "# df = pd.read_csv(f'{BASE_PATH}/train_metadata.csv')\n",
    "# df['filepath'] = BASE_PATH + '/train_audio/' + df.filename\n",
    "# df['target'] = df.primary_label.map(CFG.name2label)\n",
    "# df['filename'] = df.filepath.map(lambda x: x.split('/')[-1])\n",
    "# df['xc_id'] = df.filepath.map(lambda x: x.split('/')[-1].split('.')[0])\n",
    "\n",
    "# # Display rwos\n",
    "# df.head(2)"
   ]
  },
  {
   "cell_type": "code",
   "execution_count": 283,
   "metadata": {
    "execution": {
     "iopub.execute_input": "2024-06-10T16:52:18.768573Z",
     "iopub.status.busy": "2024-06-10T16:52:18.768170Z",
     "iopub.status.idle": "2024-06-10T16:52:18.775104Z",
     "shell.execute_reply": "2024-06-10T16:52:18.773731Z",
     "shell.execute_reply.started": "2024-06-10T16:52:18.768541Z"
    },
    "trusted": true
   },
   "outputs": [],
   "source": [
    "# def load_audio(filepath):\n",
    "#     audio, sr = librosa.load(filepath)\n",
    "#     return audio, sr\n",
    "\n",
    "# def get_spectrogram(audio):\n",
    "#     spec = librosa.feature.melspectrogram(y=audio, \n",
    "#                                    sr=CFG.sample_rate, \n",
    "#                                    n_mels=256,\n",
    "#                                    n_fft=2048,\n",
    "#                                    hop_length=512,\n",
    "#                                    fmax=CFG.fmax,\n",
    "#                                    fmin=CFG.fmin,\n",
    "#                                    )\n",
    "#     spec = librosa.power_to_db(spec, ref=1.0)\n",
    "#     min_ = spec.min()\n",
    "#     max_ = spec.max()\n",
    "#     if max_ != min_:\n",
    "#         spec = (spec - min_)/(max_ - min_)\n",
    "#     return spec\n",
    "\n",
    "# def display_audio(row):\n",
    "#     # Caption for viz\n",
    "#     caption = f'Id: {row.filename} | Name: {row.common_name} | Sci.Name: {row.scientific_name} | Rating: {row.rating}'\n",
    "#     # Read audio file\n",
    "#     audio, sr = load_audio(row.filepath)\n",
    "#     # Keep fixed length audio\n",
    "#     audio = audio[:CFG.audio_len]\n",
    "#     # Spectrogram from audio\n",
    "#     spec = get_spectrogram(audio)\n",
    "#     # Display audio\n",
    "#     print(\"# Audio:\")\n",
    "#     display(ipd.Audio(audio, rate=CFG.sample_rate))\n",
    "#     print('# Visualization:')\n",
    "#     fig, ax = plt.subplots(2, 1, figsize=(12, 2*3), sharex=True, tight_layout=True)\n",
    "#     fig.suptitle(caption)\n",
    "#     # Waveplot\n",
    "#     lid.waveshow(audio,\n",
    "#                  sr=CFG.sample_rate,\n",
    "#                  ax=ax[0],\n",
    "#                  color= cmap(0.1))\n",
    "#     # Specplot\n",
    "#     lid.specshow(spec, \n",
    "#                  sr = CFG.sample_rate, \n",
    "#                  hop_length=512,\n",
    "#                  n_fft=2048,\n",
    "#                  fmin=CFG.fmin,\n",
    "#                  fmax=CFG.fmax,\n",
    "#                  x_axis = 'time', \n",
    "#                  y_axis = 'mel',\n",
    "#                  cmap = 'coolwarm',\n",
    "#                  ax=ax[1])\n",
    "#     ax[0].set_xlabel('');\n",
    "#     fig.show()"
   ]
  },
  {
   "cell_type": "code",
   "execution_count": 284,
   "metadata": {
    "execution": {
     "iopub.execute_input": "2024-06-10T16:52:18.778058Z",
     "iopub.status.busy": "2024-06-10T16:52:18.777377Z",
     "iopub.status.idle": "2024-06-10T16:52:18.789687Z",
     "shell.execute_reply": "2024-06-10T16:52:18.788587Z",
     "shell.execute_reply.started": "2024-06-10T16:52:18.778025Z"
    },
    "trusted": true
   },
   "outputs": [],
   "source": [
    "# row = df.iloc[35]\n",
    "\n",
    "# # Display audio\n",
    "# display_audio(row)"
   ]
  },
  {
   "cell_type": "code",
   "execution_count": 285,
   "metadata": {
    "execution": {
     "iopub.execute_input": "2024-06-10T16:52:18.791613Z",
     "iopub.status.busy": "2024-06-10T16:52:18.791261Z",
     "iopub.status.idle": "2024-06-10T16:52:18.800012Z",
     "shell.execute_reply": "2024-06-10T16:52:18.798696Z",
     "shell.execute_reply.started": "2024-06-10T16:52:18.791584Z"
    },
    "trusted": true
   },
   "outputs": [],
   "source": [
    "# row = df.iloc[16]\n",
    "\n",
    "# # Display audio\n",
    "# display_audio(row)"
   ]
  },
  {
   "cell_type": "code",
   "execution_count": 286,
   "metadata": {
    "execution": {
     "iopub.execute_input": "2024-06-10T16:52:18.801799Z",
     "iopub.status.busy": "2024-06-10T16:52:18.801397Z",
     "iopub.status.idle": "2024-06-10T16:52:18.811817Z",
     "shell.execute_reply": "2024-06-10T16:52:18.810382Z",
     "shell.execute_reply.started": "2024-06-10T16:52:18.801768Z"
    },
    "trusted": true
   },
   "outputs": [],
   "source": [
    "# # Import required packages\n",
    "# from sklearn.model_selection import train_test_split\n",
    "\n",
    "# train_df, valid_df = train_test_split(df, test_size=0.2)\n",
    "\n",
    "# print(f\"Num Train: {len(train_df)} | Num Valid: {len(valid_df)}\")"
   ]
  },
  {
   "cell_type": "code",
   "execution_count": 287,
   "metadata": {
    "execution": {
     "iopub.execute_input": "2024-06-10T16:52:18.816524Z",
     "iopub.status.busy": "2024-06-10T16:52:18.815056Z",
     "iopub.status.idle": "2024-06-10T16:52:18.828268Z",
     "shell.execute_reply": "2024-06-10T16:52:18.827114Z",
     "shell.execute_reply.started": "2024-06-10T16:52:18.816474Z"
    },
    "trusted": true
   },
   "outputs": [],
   "source": [
    "# # Decodes Audio\n",
    "# def build_decoder(with_labels=True, dim=1024):\n",
    "#     def get_audio(filepath):\n",
    "#         file_bytes = tf.io.read_file(filepath)\n",
    "#         audio = tfio.audio.decode_vorbis(file_bytes)  # decode .ogg file\n",
    "#         audio = tf.cast(audio, tf.float32)\n",
    "#         if tf.shape(audio)[1] > 1:  # stereo -> mono\n",
    "#             audio = audio[..., 0:1]\n",
    "#         audio = tf.squeeze(audio, axis=-1)\n",
    "#         return audio\n",
    "\n",
    "#     def crop_or_pad(audio, target_len, pad_mode=\"constant\"):\n",
    "#         audio_len = tf.shape(audio)[0]\n",
    "#         diff_len = abs(\n",
    "#             target_len - audio_len\n",
    "#         )  # find difference between target and audio length\n",
    "#         if audio_len < target_len:  # do padding if audio length is shorter\n",
    "#             pad1 = tf.random.uniform([], maxval=diff_len, dtype=tf.int32)\n",
    "#             pad2 = diff_len - pad1\n",
    "#             audio = tf.pad(audio, paddings=[[pad1, pad2]], mode=pad_mode)\n",
    "#         elif audio_len > target_len:  # do cropping if audio length is larger\n",
    "#             idx = tf.random.uniform([], maxval=diff_len, dtype=tf.int32)\n",
    "#             audio = audio[idx : (idx + target_len)]\n",
    "#         return tf.reshape(audio, [target_len])\n",
    "    \n",
    "#     def min_max_normalize(audio):\n",
    "#         max_val = tf.reduce_max(audio)\n",
    "#         min_val = tf.reduce_min(audio)\n",
    "#         return (audio - min_val) / (max_val - min_val) * 2.0 - 1.0\n",
    "    \n",
    "#     def apply_preproc(spec):\n",
    "#         # Standardize\n",
    "#         mean = tf.math.reduce_mean(spec)\n",
    "#         std = tf.math.reduce_std(spec)\n",
    "#         spec = tf.where(tf.math.equal(std, 0), spec - mean, (spec - mean) / std)\n",
    "\n",
    "#         # Normalize using Min-Max\n",
    "#         max_val = tf.reduce_max(spec)\n",
    "#         min_val = tf.reduce_min(spec)\n",
    "#         return (spec - min_val) / (max_val - min_val) * 2.0 - 1.0\n",
    "\n",
    "#     def get_target(target):\n",
    "#         target = tf.reshape(target, [1])\n",
    "#         target = tf.cast(tf.one_hot(target, CFG.num_classes), tf.float32)\n",
    "#         target = tf.reshape(target, [CFG.num_classes])\n",
    "#         return target\n",
    "    \n",
    "#     def add_noise(audio, noise_factor=0.001):\n",
    "#         noise = tf.random.normal(tf.shape(audio), stddev=noise_factor)\n",
    "#         return audio + noise\n",
    "    \n",
    "#     def trim_audio(audio, threshold=0.02):\n",
    "#         # Calculate the energy of the audio signal\n",
    "#         energy = tf.reduce_sum(tf.square(audio))\n",
    "\n",
    "#         # Handle case when energy is below threshold\n",
    "#         if energy < threshold:\n",
    "#             return audio\n",
    "\n",
    "#         # Find the start and end indices of the active audio segment\n",
    "#         start_idx = tf.argmax(audio > threshold, output_type=tf.int32)\n",
    "#         end_idx = tf.argmax(audio[::-1] > threshold, output_type=tf.int32)\n",
    "\n",
    "#         # Trim the audio signal\n",
    "#         trimmed_audio = audio[start_idx:-end_idx]\n",
    "#         return trimmed_audio\n",
    "    \n",
    "#     def time_stretch(audio, factor_range=(0.8, 1.2)):\n",
    "#         factor = tf.random.uniform([], minval=factor_range[0], maxval=factor_range[1])\n",
    "#     #tf.print(\"Selected factor:\", factor) \n",
    "#         return tfio.audio.resample(audio, rate_in=CFG.sample_rate, rate_out=tf.cast(CFG.sample_rate * factor, tf.int64))\n",
    "\n",
    "#     def decode(path,augment= False):\n",
    "#         # Load audio file\n",
    "#         audio = get_audio(path)\n",
    "#         # Crop or pad audio to keep a fixed length\n",
    "        \n",
    "# #         audio = min_max_normalize(audio)\n",
    "# #         audio = trim_audio(audio)\n",
    "#         if augment: \n",
    "#             if tf.random.uniform([]) < 0.35:\n",
    "#                 audio = time_stretch(audio)\n",
    "#             if tf.random.uniform([]) < 0.35:\n",
    "#                 audio = add_noise(audio) \n",
    "#         audio = crop_or_pad(audio, dim)\n",
    "#         # Audio to Spectrogram\n",
    "#         spec = keras.layers.MelSpectrogram(\n",
    "#             num_mel_bins=CFG.img_size[0],\n",
    "#             fft_length=CFG.nfft,\n",
    "#             sequence_stride=CFG.hop_length,\n",
    "#             sampling_rate=CFG.sample_rate,\n",
    "#         )(audio)\n",
    "#         # Apply normalization and standardization\n",
    "#         spec = apply_preproc(spec)\n",
    "#         # Spectrogram to 3 channel image (for imagenet)\n",
    "#         spec = tf.tile(spec[..., None], [1, 1, 3])\n",
    "#         spec = tf.reshape(spec, [*CFG.img_size, 3])\n",
    "#         return spec\n",
    "\n",
    "#     def decode_with_labels(path, label,augment):\n",
    "#         label = get_target(label)\n",
    "#         return decode(path,augment), label\n",
    "\n",
    "#     return decode_with_labels if with_labels else decode"
   ]
  },
  {
   "cell_type": "code",
   "execution_count": 288,
   "metadata": {
    "execution": {
     "iopub.execute_input": "2024-06-10T16:52:18.830455Z",
     "iopub.status.busy": "2024-06-10T16:52:18.830093Z",
     "iopub.status.idle": "2024-06-10T16:52:18.845004Z",
     "shell.execute_reply": "2024-06-10T16:52:18.843701Z",
     "shell.execute_reply.started": "2024-06-10T16:52:18.830412Z"
    },
    "trusted": true
   },
   "outputs": [],
   "source": [
    "# def build_augmenter():\n",
    "#     augmenters = [\n",
    "#         keras_cv.layers.MixUp(alpha=0.4),\n",
    "#         keras_cv.layers.RandomCutout(height_factor=(1.0, 1.0),\n",
    "#                                      width_factor=(0.06, 0.12)), # time-masking\n",
    "#         keras_cv.layers.RandomCutout(height_factor=(0.06, 0.1),\n",
    "#                                      width_factor=(1.0, 1.0)), # freq-masking\n",
    "#     ]\n",
    "    \n",
    "#     def augment(img, label):\n",
    "#         data = {\"images\":img, \"labels\":label}\n",
    "#         for augmenter in augmenters:\n",
    "#             if tf.random.uniform([]) < 0.35:\n",
    "#                 data = augmenter(data, training=True)\n",
    "#         return data[\"images\"], data[\"labels\"]\n",
    "    \n",
    "#     return augment"
   ]
  },
  {
   "cell_type": "code",
   "execution_count": 289,
   "metadata": {
    "execution": {
     "iopub.execute_input": "2024-06-10T16:52:18.847216Z",
     "iopub.status.busy": "2024-06-10T16:52:18.846803Z",
     "iopub.status.idle": "2024-06-10T16:52:18.856829Z",
     "shell.execute_reply": "2024-06-10T16:52:18.855665Z",
     "shell.execute_reply.started": "2024-06-10T16:52:18.847164Z"
    },
    "trusted": true
   },
   "outputs": [],
   "source": [
    "# def build_dataset(paths, labels=None, batch_size=32, \n",
    "#                   decode_fn=None, augment_fn=None, cache=True,\n",
    "#                   augment=False, shuffle=2048):\n",
    "\n",
    "#     if decode_fn is None:\n",
    "#         decode_fn = build_decoder(labels is not None, dim=CFG.audio_len)\n",
    "\n",
    "#     if augment_fn is None:\n",
    "#         augment_fn = build_augmenter()\n",
    "        \n",
    "#     AUTO = tf.data.experimental.AUTOTUNE\n",
    "#     slices = (paths,) if labels is None else (paths, labels)\n",
    "#     ds = tf.data.Dataset.from_tensor_slices(slices)\n",
    "#     ds = ds.map(lambda file_name, label: decode_fn(file_name, label, augment=augment), num_parallel_calls=AUTO)\n",
    "#     #ds = ds.map(decode_fn, num_parallel_calls=AUTO)\n",
    "#     ds = ds.cache() if cache else ds\n",
    "#     if shuffle:\n",
    "#         opt = tf.data.Options()\n",
    "#         ds = ds.shuffle(shuffle, seed=CFG.seed)\n",
    "#         opt.experimental_deterministic = False\n",
    "#         ds = ds.with_options(opt)\n",
    "#     ds = ds.batch(batch_size, drop_remainder=True)\n",
    "#     ds = ds.map(augment_fn, num_parallel_calls=AUTO) if augment else ds\n",
    "#     ds = ds.prefetch(AUTO)\n",
    "#     return ds"
   ]
  },
  {
   "cell_type": "code",
   "execution_count": 290,
   "metadata": {
    "execution": {
     "iopub.execute_input": "2024-06-10T16:52:18.858870Z",
     "iopub.status.busy": "2024-06-10T16:52:18.858471Z",
     "iopub.status.idle": "2024-06-10T16:52:18.873086Z",
     "shell.execute_reply": "2024-06-10T16:52:18.871942Z",
     "shell.execute_reply.started": "2024-06-10T16:52:18.858840Z"
    },
    "trusted": true
   },
   "outputs": [],
   "source": [
    "# # Train\n",
    "# train_paths = train_df.filepath.values\n",
    "# train_labels = train_df.target.values\n",
    "# train_ds = build_dataset(train_paths, train_labels, batch_size=CFG.batch_size,\n",
    "#                          shuffle=True, augment=CFG.augment)\n",
    "\n",
    "# # Valid\n",
    "# valid_paths = valid_df.filepath.values\n",
    "# valid_labels = valid_df.target.values\n",
    "# valid_ds = build_dataset(valid_paths, valid_labels, batch_size=CFG.batch_size,\n",
    "#                          shuffle=False, augment=False)"
   ]
  },
  {
   "cell_type": "code",
   "execution_count": 291,
   "metadata": {
    "execution": {
     "iopub.execute_input": "2024-06-10T16:52:18.876791Z",
     "iopub.status.busy": "2024-06-10T16:52:18.875332Z",
     "iopub.status.idle": "2024-06-10T16:52:18.885474Z",
     "shell.execute_reply": "2024-06-10T16:52:18.884378Z",
     "shell.execute_reply.started": "2024-06-10T16:52:18.876743Z"
    },
    "trusted": true
   },
   "outputs": [],
   "source": [
    "# def plot_batch(batch, row=3, col=3, label2name=None,):\n",
    "#     \"\"\"Plot one batch data\"\"\"\n",
    "#     if isinstance(batch, tuple) or isinstance(batch, list):\n",
    "#         specs, tars = batch\n",
    "#     else:\n",
    "#         specs = batch\n",
    "#         tars = None\n",
    "#     plt.figure(figsize=(col*5, row*3))\n",
    "#     for idx in range(row*col):\n",
    "#         ax = plt.subplot(row, col, idx+1)\n",
    "#         lid.specshow(np.array(specs[idx, ..., 0]), \n",
    "#                      n_fft=CFG.nfft, \n",
    "#                      hop_length=CFG.hop_length, \n",
    "#                      sr=CFG.sample_rate,\n",
    "#                      x_axis='time',\n",
    "#                      y_axis='mel',\n",
    "#                      cmap='coolwarm')\n",
    "#         if tars is not None:\n",
    "#             label = tars[idx].numpy().argmax()\n",
    "#             name = label2name[label]\n",
    "#             plt.title(name)\n",
    "#     plt.tight_layout()\n",
    "#     plt.show()\n"
   ]
  },
  {
   "cell_type": "code",
   "execution_count": 292,
   "metadata": {
    "execution": {
     "iopub.execute_input": "2024-06-10T16:52:18.887241Z",
     "iopub.status.busy": "2024-06-10T16:52:18.886871Z",
     "iopub.status.idle": "2024-06-10T16:52:18.901396Z",
     "shell.execute_reply": "2024-06-10T16:52:18.899939Z",
     "shell.execute_reply.started": "2024-06-10T16:52:18.887205Z"
    },
    "trusted": true
   },
   "outputs": [],
   "source": [
    "# sample_ds = train_ds.take(1)\n",
    "# batch = next(iter(sample_ds))\n",
    "# plot_batch(batch, label2name=CFG.label2name)"
   ]
  },
  {
   "cell_type": "code",
   "execution_count": 293,
   "metadata": {
    "execution": {
     "iopub.execute_input": "2024-06-10T16:52:18.903097Z",
     "iopub.status.busy": "2024-06-10T16:52:18.902731Z",
     "iopub.status.idle": "2024-06-10T16:52:18.936890Z",
     "shell.execute_reply": "2024-06-10T16:52:18.935738Z",
     "shell.execute_reply.started": "2024-06-10T16:52:18.903069Z"
    },
    "trusted": true
   },
   "outputs": [],
   "source": [
    "\n",
    "test_paths = glob(f'/kaggle/input/birdclef-2024/unlabeled_soundscapes/*ogg')"
   ]
  },
  {
   "cell_type": "code",
   "execution_count": 294,
   "metadata": {
    "execution": {
     "iopub.execute_input": "2024-06-10T16:52:18.938632Z",
     "iopub.status.busy": "2024-06-10T16:52:18.938311Z",
     "iopub.status.idle": "2024-06-10T16:52:18.943401Z",
     "shell.execute_reply": "2024-06-10T16:52:18.942114Z",
     "shell.execute_reply.started": "2024-06-10T16:52:18.938606Z"
    },
    "trusted": true
   },
   "outputs": [],
   "source": [
    "#test_paths"
   ]
  },
  {
   "cell_type": "code",
   "execution_count": 295,
   "metadata": {
    "execution": {
     "iopub.execute_input": "2024-06-10T16:52:18.947024Z",
     "iopub.status.busy": "2024-06-10T16:52:18.946686Z",
     "iopub.status.idle": "2024-06-10T16:52:18.985605Z",
     "shell.execute_reply": "2024-06-10T16:52:18.984504Z",
     "shell.execute_reply.started": "2024-06-10T16:52:18.946997Z"
    },
    "trusted": true
   },
   "outputs": [
    {
     "data": {
      "text/html": [
       "<div>\n",
       "<style scoped>\n",
       "    .dataframe tbody tr th:only-of-type {\n",
       "        vertical-align: middle;\n",
       "    }\n",
       "\n",
       "    .dataframe tbody tr th {\n",
       "        vertical-align: top;\n",
       "    }\n",
       "\n",
       "    .dataframe thead th {\n",
       "        text-align: right;\n",
       "    }\n",
       "</style>\n",
       "<table border=\"1\" class=\"dataframe\">\n",
       "  <thead>\n",
       "    <tr style=\"text-align: right;\">\n",
       "      <th></th>\n",
       "      <th>filepath</th>\n",
       "    </tr>\n",
       "  </thead>\n",
       "  <tbody>\n",
       "    <tr>\n",
       "      <th>0</th>\n",
       "      <td>/kaggle/input/birdclef-2024/unlabeled_soundsca...</td>\n",
       "    </tr>\n",
       "    <tr>\n",
       "      <th>1</th>\n",
       "      <td>/kaggle/input/birdclef-2024/unlabeled_soundsca...</td>\n",
       "    </tr>\n",
       "    <tr>\n",
       "      <th>2</th>\n",
       "      <td>/kaggle/input/birdclef-2024/unlabeled_soundsca...</td>\n",
       "    </tr>\n",
       "    <tr>\n",
       "      <th>3</th>\n",
       "      <td>/kaggle/input/birdclef-2024/unlabeled_soundsca...</td>\n",
       "    </tr>\n",
       "    <tr>\n",
       "      <th>4</th>\n",
       "      <td>/kaggle/input/birdclef-2024/unlabeled_soundsca...</td>\n",
       "    </tr>\n",
       "  </tbody>\n",
       "</table>\n",
       "</div>"
      ],
      "text/plain": [
       "                                            filepath\n",
       "0  /kaggle/input/birdclef-2024/unlabeled_soundsca...\n",
       "1  /kaggle/input/birdclef-2024/unlabeled_soundsca...\n",
       "2  /kaggle/input/birdclef-2024/unlabeled_soundsca...\n",
       "3  /kaggle/input/birdclef-2024/unlabeled_soundsca...\n",
       "4  /kaggle/input/birdclef-2024/unlabeled_soundsca..."
      ]
     },
     "execution_count": 295,
     "metadata": {},
     "output_type": "execute_result"
    }
   ],
   "source": [
    "tf.keras.utils.set_random_seed(CFG.seed)\n",
    "\n",
    "\n",
    "BASE_PATH = '/kaggle/input/birdclef-2024'\n",
    "\n",
    "\n",
    "test_paths = glob(f'{BASE_PATH}/test_soundscapes/*ogg')\n",
    "# During commit use `unlabeled` data as there is no `test` data.\n",
    "# During submission `test` data will automatically be populated.\n",
    "if len(test_paths)==0:\n",
    "    test_paths = glob(f'{BASE_PATH}/unlabeled_soundscapes/*ogg')[:10]\n",
    "test_df = pd.DataFrame(test_paths, columns=['filepath'])\n",
    "test_df.head()"
   ]
  },
  {
   "cell_type": "code",
   "execution_count": 296,
   "metadata": {
    "execution": {
     "iopub.execute_input": "2024-06-10T16:52:18.987140Z",
     "iopub.status.busy": "2024-06-10T16:52:18.986825Z",
     "iopub.status.idle": "2024-06-10T16:52:18.994007Z",
     "shell.execute_reply": "2024-06-10T16:52:18.992844Z",
     "shell.execute_reply.started": "2024-06-10T16:52:18.987113Z"
    },
    "trusted": true
   },
   "outputs": [
    {
     "data": {
      "text/plain": [
       "['/kaggle/input/birdclef-2024/unlabeled_soundscapes/1872382287.ogg',\n",
       " '/kaggle/input/birdclef-2024/unlabeled_soundscapes/161691311.ogg',\n",
       " '/kaggle/input/birdclef-2024/unlabeled_soundscapes/884633066.ogg',\n",
       " '/kaggle/input/birdclef-2024/unlabeled_soundscapes/1675425185.ogg',\n",
       " '/kaggle/input/birdclef-2024/unlabeled_soundscapes/1469579221.ogg',\n",
       " '/kaggle/input/birdclef-2024/unlabeled_soundscapes/1564606141.ogg',\n",
       " '/kaggle/input/birdclef-2024/unlabeled_soundscapes/194233408.ogg',\n",
       " '/kaggle/input/birdclef-2024/unlabeled_soundscapes/2003586554.ogg',\n",
       " '/kaggle/input/birdclef-2024/unlabeled_soundscapes/1459749597.ogg',\n",
       " '/kaggle/input/birdclef-2024/unlabeled_soundscapes/33854460.ogg']"
      ]
     },
     "execution_count": 296,
     "metadata": {},
     "output_type": "execute_result"
    }
   ],
   "source": [
    "test_paths"
   ]
  },
  {
   "cell_type": "code",
   "execution_count": null,
   "metadata": {},
   "outputs": [],
   "source": []
  },
  {
   "cell_type": "code",
   "execution_count": 297,
   "metadata": {
    "execution": {
     "iopub.execute_input": "2024-06-10T16:52:18.995905Z",
     "iopub.status.busy": "2024-06-10T16:52:18.995526Z",
     "iopub.status.idle": "2024-06-10T16:52:22.677394Z",
     "shell.execute_reply": "2024-06-10T16:52:22.676046Z",
     "shell.execute_reply.started": "2024-06-10T16:52:18.995867Z"
    },
    "trusted": true
   },
   "outputs": [
    {
     "name": "stderr",
     "output_type": "stream",
     "text": [
      "Attaching 'config.json' from model 'keras/efficientnetv2/keras/efficientnetv2_b2_imagenet/2' to your Kaggle notebook...\n",
      "Attaching 'config.json' from model 'keras/efficientnetv2/keras/efficientnetv2_b2_imagenet/2' to your Kaggle notebook...\n",
      "Attaching 'model.weights.h5' from model 'keras/efficientnetv2/keras/efficientnetv2_b2_imagenet/2' to your Kaggle notebook...\n"
     ]
    }
   ],
   "source": [
    "# Create an input layer for the model\n",
    "inp = keras.layers.Input(shape=(None, None, 3))\n",
    "# Pretrained backbone\n",
    "backbone = keras_cv.models.EfficientNetV2Backbone.from_preset(\n",
    "    CFG.preset,\n",
    ")\n",
    "out = keras_cv.models.ImageClassifier(\n",
    "    backbone=backbone,\n",
    "    num_classes=CFG.num_classes,\n",
    "    name=\"classifier\"\n",
    ")(inp)\n",
    "# Build model\n",
    "model = keras.models.Model(inputs=inp, outputs=out)\n",
    "# Compile model with optimizer, loss and metrics\n",
    "# model.compile(optimizer=\"adam\",\n",
    "#               loss=keras.losses.CategoricalCrossentropy(label_smoothing=0.02),\n",
    "#               metrics=[keras.metrics.AUC(name='auc')],\n",
    "#              )\n",
    "# model.summary()\n",
    "\n"
   ]
  },
  {
   "cell_type": "code",
   "execution_count": 298,
   "metadata": {
    "execution": {
     "iopub.execute_input": "2024-06-10T16:52:22.679088Z",
     "iopub.status.busy": "2024-06-10T16:52:22.678663Z",
     "iopub.status.idle": "2024-06-10T16:52:22.690416Z",
     "shell.execute_reply": "2024-06-10T16:52:22.689160Z",
     "shell.execute_reply.started": "2024-06-10T16:52:22.679051Z"
    },
    "trusted": true
   },
   "outputs": [
    {
     "name": "stdout",
     "output_type": "stream",
     "text": [
      "The file '/kaggle/input/birdclef-24/other/fine_tune_efficient_net/1/best_model_90.weights.h5' exists.\n"
     ]
    },
    {
     "data": {
      "text/plain": [
       "True"
      ]
     },
     "execution_count": 298,
     "metadata": {},
     "output_type": "execute_result"
    }
   ],
   "source": [
    "def check_file_existence(file_path):\n",
    "    # Check if the file exists\n",
    "    if os.path.exists(file_path):\n",
    "        print(f\"The file '{file_path}' exists.\")\n",
    "        return True\n",
    "    else:\n",
    "        print(f\"The file '{file_path}' does not exist.\")\n",
    "        return False\n",
    "\n",
    "# Example usage\n",
    "file_path = '/kaggle/input/birdclef-24/other/fine_tune_efficient_net/1/best_model_90.weights.h5'\n",
    "check_file_existence(file_path)"
   ]
  },
  {
   "cell_type": "code",
   "execution_count": 299,
   "metadata": {
    "execution": {
     "iopub.execute_input": "2024-06-10T16:52:22.691971Z",
     "iopub.status.busy": "2024-06-10T16:52:22.691654Z",
     "iopub.status.idle": "2024-06-10T16:52:23.824232Z",
     "shell.execute_reply": "2024-06-10T16:52:23.823033Z",
     "shell.execute_reply.started": "2024-06-10T16:52:22.691945Z"
    },
    "trusted": true
   },
   "outputs": [],
   "source": [
    "model.load_weights(\"/kaggle/input/birdclef-24/other/fine_tune_efficient_net/1/best_model_90.weights.h5\")"
   ]
  },
  {
   "cell_type": "code",
   "execution_count": 300,
   "metadata": {
    "execution": {
     "iopub.execute_input": "2024-06-10T16:52:23.828843Z",
     "iopub.status.busy": "2024-06-10T16:52:23.828461Z",
     "iopub.status.idle": "2024-06-10T16:52:23.842384Z",
     "shell.execute_reply": "2024-06-10T16:52:23.841211Z",
     "shell.execute_reply.started": "2024-06-10T16:52:23.828813Z"
    },
    "trusted": true
   },
   "outputs": [],
   "source": [
    "\n",
    "# Decodes Audio\n",
    "def build_decoder(with_labels=True, dim=1024):\n",
    "    def get_audio(filepath):\n",
    "        file_bytes = tf.io.read_file(filepath)\n",
    "        audio = tfio.audio.decode_vorbis(file_bytes) # decode .ogg file\n",
    "        audio = tf.cast(audio, tf.float32)\n",
    "        if tf.shape(audio)[1]>1: # stereo -> mono\n",
    "            audio = audio[...,0:1]\n",
    "        audio = tf.squeeze(audio, axis=-1)\n",
    "        return audio\n",
    "    \n",
    "    def create_frames(audio, duration=5, sr=32000):\n",
    "        frame_size = int(duration * sr)\n",
    "        audio = tf.pad(audio[..., None], [[0, tf.shape(audio)[0] % frame_size], [0, 0]]) # pad the end\n",
    "        audio = tf.squeeze(audio) # remove extra dimension added for padding\n",
    "        frames = tf.reshape(audio, [-1, frame_size]) # shape: [num_frames, frame_size]\n",
    "        print(frames.shape)\n",
    "        return frames\n",
    "    \n",
    "    def apply_preproc(spec):\n",
    "        # Standardize\n",
    "        mean = tf.math.reduce_mean(spec)\n",
    "        std = tf.math.reduce_std(spec)\n",
    "        spec = tf.where(tf.math.equal(std, 0), spec - mean, (spec - mean) / std)\n",
    "\n",
    "        # Normalize using Min-Max\n",
    "        min_val = tf.math.reduce_min(spec)\n",
    "        max_val = tf.math.reduce_max(spec)\n",
    "        spec = tf.where(tf.math.equal(max_val - min_val, 0), spec - min_val,\n",
    "                              (spec - min_val) / (max_val - min_val))\n",
    "        return spec\n",
    "\n",
    "    def decode(path):\n",
    "        # Load audio file\n",
    "        audio = get_audio(path)\n",
    "        # Split audio file into frames with each having 5 seecond duration\n",
    "        audio = create_frames(audio)\n",
    "        audio = apply_preproc(audio)\n",
    "        # Convert audio to spectrogram\n",
    "        spec = keras.layers.MelSpectrogram(num_mel_bins=CFG.img_size[0],\n",
    "                                             fft_length=CFG.nfft, \n",
    "                                              sequence_stride=CFG.hop_length, \n",
    "                                              sampling_rate=CFG.sample_rate)(audio)\n",
    "        # Apply normalization and standardization\n",
    "        spec = apply_preproc(spec)\n",
    "        # Covnert spectrogram to 3 channel image (for imagenet)\n",
    "        spec = tf.tile(spec[..., None], [1,  1, 1, 3])\n",
    "        print(spec.shape)\n",
    "\n",
    "        return spec\n",
    "     \n",
    "    return decode\n"
   ]
  },
  {
   "cell_type": "code",
   "execution_count": 301,
   "metadata": {
    "execution": {
     "iopub.execute_input": "2024-06-10T16:52:23.844089Z",
     "iopub.status.busy": "2024-06-10T16:52:23.843763Z",
     "iopub.status.idle": "2024-06-10T16:52:23.857505Z",
     "shell.execute_reply": "2024-06-10T16:52:23.856291Z",
     "shell.execute_reply.started": "2024-06-10T16:52:23.844062Z"
    },
    "trusted": true
   },
   "outputs": [],
   "source": [
    "def build_dataset(paths, batch_size=1, decode_fn=None, cache=False):\n",
    "    if decode_fn is None:\n",
    "        decode_fn = build_decoder(dim=CFG.audio_len) # decoder\n",
    "    AUTO = tf.data.experimental.AUTOTUNE\n",
    "    slices = (paths,)\n",
    "    ds = tf.data.Dataset.from_tensor_slices(slices)\n",
    "    ds = ds.map(decode_fn, num_parallel_calls=AUTO) # decode audio to spectrograms then create frames\n",
    "    ds = ds.cache() if cache else ds # cache files\n",
    "    ds = ds.batch(batch_size, drop_remainder=False) # create batches\n",
    "    ds = ds.prefetch(AUTO)\n",
    "    return ds"
   ]
  },
  {
   "cell_type": "code",
   "execution_count": 302,
   "metadata": {
    "execution": {
     "iopub.execute_input": "2024-06-10T16:52:23.859586Z",
     "iopub.status.busy": "2024-06-10T16:52:23.859228Z",
     "iopub.status.idle": "2024-06-10T16:52:23.869268Z",
     "shell.execute_reply": "2024-06-10T16:52:23.868216Z",
     "shell.execute_reply.started": "2024-06-10T16:52:23.859556Z"
    },
    "trusted": true
   },
   "outputs": [],
   "source": [
    "# test_paths = test_df.filepath.tolist()\n",
    "# test_ds = build_dataset(paths=test_paths, batch_size=CFG.batch_size)"
   ]
  },
  {
   "cell_type": "code",
   "execution_count": 303,
   "metadata": {
    "execution": {
     "iopub.execute_input": "2024-06-10T16:52:23.870819Z",
     "iopub.status.busy": "2024-06-10T16:52:23.870506Z",
     "iopub.status.idle": "2024-06-10T16:52:23.884231Z",
     "shell.execute_reply": "2024-06-10T16:52:23.883022Z",
     "shell.execute_reply.started": "2024-06-10T16:52:23.870794Z"
    },
    "trusted": true
   },
   "outputs": [],
   "source": [
    "# for idx, specs in enumerate(iter(test_ds)):\n",
    "#     print(specs.shape)\n",
    "#     specs = keras.ops.convert_to_tensor(specs[0])\n",
    "#     print(specs.shape)"
   ]
  },
  {
   "cell_type": "code",
   "execution_count": null,
   "metadata": {},
   "outputs": [],
   "source": [
    "\n"
   ]
  },
  {
   "cell_type": "code",
   "execution_count": 304,
   "metadata": {
    "execution": {
     "iopub.execute_input": "2024-06-10T16:52:23.886015Z",
     "iopub.status.busy": "2024-06-10T16:52:23.885640Z",
     "iopub.status.idle": "2024-06-10T16:54:02.247804Z",
     "shell.execute_reply": "2024-06-10T16:54:02.246462Z",
     "shell.execute_reply.started": "2024-06-10T16:52:23.885985Z"
    },
    "trusted": true
   },
   "outputs": [
    {
     "name": "stdout",
     "output_type": "stream",
     "text": [
      "(None, 160000)\n",
      "(None, 128, 128, 3)\n"
     ]
    },
    {
     "name": "stderr",
     "output_type": "stream",
     "text": [
      "test : 100%|██████████| 10/10 [01:37<00:00,  9.77s/it]\n"
     ]
    }
   ],
   "source": [
    "import time\n",
    "\n",
    "ids = []\n",
    "\n",
    "# Initialize empty array to store predictions\n",
    "preds = np.empty(shape=(0, CFG.num_classes), dtype='float32')\n",
    "\n",
    "# Build test dataset\n",
    "test_paths = test_df.filepath.tolist()\n",
    "test_ds = build_dataset(paths=test_paths, batch_size=1)\n",
    "\n",
    "files_handled = 0\n",
    "start_time = time.time()\n",
    "\n",
    "# Iterate over each audio file in the test dataset\n",
    "for idx, specs in enumerate(tqdm(iter(test_ds), desc='test ', total=len(test_df))):\n",
    "    # Extract the filename without the extension\n",
    "    filename = test_paths[idx].split('/')[-1].replace('.ogg','')\n",
    "    \n",
    "    # Convert to backend-specific tensor while excluding extra dimension\n",
    "    specs = keras.ops.convert_to_tensor(specs[0])\n",
    "    \n",
    "    # Predict bird species for all frames in a recording using all trained models\n",
    "    frame_preds = model.predict(specs, verbose=0)\n",
    "    \n",
    "    # Create a ID for each frame in a recording using the filename and frame number\n",
    "    frame_ids = [f'{filename}_{(frame_id+1)*5}' for frame_id in range(len(frame_preds))]\n",
    "    \n",
    "    # Concatenate the ids\n",
    "    ids += frame_ids\n",
    "    # Concatenate the predictions\n",
    "    preds = np.concatenate([preds, frame_preds], axis=0)\n",
    "    files_handled += 1"
   ]
  },
  {
   "cell_type": "code",
   "execution_count": 305,
   "metadata": {
    "execution": {
     "iopub.execute_input": "2024-06-10T16:54:02.250824Z",
     "iopub.status.busy": "2024-06-10T16:54:02.250348Z",
     "iopub.status.idle": "2024-06-10T16:54:02.259707Z",
     "shell.execute_reply": "2024-06-10T16:54:02.258264Z",
     "shell.execute_reply.started": "2024-06-10T16:54:02.250787Z"
    },
    "trusted": true
   },
   "outputs": [
    {
     "name": "stdout",
     "output_type": "stream",
     "text": [
      "\n",
      "10 files processed in 97.93542289733887 seconds\n",
      "Time / file: 9.793558692932129 seconds\n",
      "Estimated time for 1100: 2.9924762672848173 hours\n"
     ]
    }
   ],
   "source": [
    "print(f\"\\n{files_handled} files processed in {(time.time() - start_time)} seconds\")\n",
    "avg_time = ((time.time() - start_time) / files_handled)\n",
    "print(f\"Time / file: {avg_time} seconds\")\n",
    "expected_files = 1100\n",
    "total_hours = (avg_time * expected_files / 3600)\n",
    "print(f\"Estimated time for {expected_files}: {total_hours} hours\")"
   ]
  },
  {
   "cell_type": "code",
   "execution_count": 306,
   "metadata": {
    "execution": {
     "iopub.execute_input": "2024-06-10T16:54:02.262101Z",
     "iopub.status.busy": "2024-06-10T16:54:02.261644Z",
     "iopub.status.idle": "2024-06-10T16:54:02.515682Z",
     "shell.execute_reply": "2024-06-10T16:54:02.514449Z",
     "shell.execute_reply.started": "2024-06-10T16:54:02.262061Z"
    },
    "trusted": true
   },
   "outputs": [
    {
     "data": {
      "text/html": [
       "<div>\n",
       "<style scoped>\n",
       "    .dataframe tbody tr th:only-of-type {\n",
       "        vertical-align: middle;\n",
       "    }\n",
       "\n",
       "    .dataframe tbody tr th {\n",
       "        vertical-align: top;\n",
       "    }\n",
       "\n",
       "    .dataframe thead th {\n",
       "        text-align: right;\n",
       "    }\n",
       "</style>\n",
       "<table border=\"1\" class=\"dataframe\">\n",
       "  <thead>\n",
       "    <tr style=\"text-align: right;\">\n",
       "      <th></th>\n",
       "      <th>row_id</th>\n",
       "      <th>asbfly</th>\n",
       "      <th>ashdro1</th>\n",
       "      <th>ashpri1</th>\n",
       "      <th>ashwoo2</th>\n",
       "      <th>asikoe2</th>\n",
       "      <th>asiope1</th>\n",
       "      <th>aspfly1</th>\n",
       "      <th>aspswi1</th>\n",
       "      <th>barfly1</th>\n",
       "      <th>...</th>\n",
       "      <th>whbwoo2</th>\n",
       "      <th>whcbar1</th>\n",
       "      <th>whiter2</th>\n",
       "      <th>whrmun</th>\n",
       "      <th>whtkin2</th>\n",
       "      <th>woosan</th>\n",
       "      <th>wynlau1</th>\n",
       "      <th>yebbab1</th>\n",
       "      <th>yebbul3</th>\n",
       "      <th>zitcis1</th>\n",
       "    </tr>\n",
       "  </thead>\n",
       "  <tbody>\n",
       "    <tr>\n",
       "      <th>0</th>\n",
       "      <td>1872382287_5</td>\n",
       "      <td>0.005227</td>\n",
       "      <td>0.002690</td>\n",
       "      <td>0.000633</td>\n",
       "      <td>0.000656</td>\n",
       "      <td>0.007912</td>\n",
       "      <td>0.000712</td>\n",
       "      <td>0.001363</td>\n",
       "      <td>0.000234</td>\n",
       "      <td>0.001599</td>\n",
       "      <td>...</td>\n",
       "      <td>0.007649</td>\n",
       "      <td>0.003922</td>\n",
       "      <td>0.001839</td>\n",
       "      <td>0.002102</td>\n",
       "      <td>0.004886</td>\n",
       "      <td>0.002420</td>\n",
       "      <td>0.000276</td>\n",
       "      <td>0.000181</td>\n",
       "      <td>0.000678</td>\n",
       "      <td>0.001340</td>\n",
       "    </tr>\n",
       "    <tr>\n",
       "      <th>1</th>\n",
       "      <td>1872382287_10</td>\n",
       "      <td>0.002365</td>\n",
       "      <td>0.003722</td>\n",
       "      <td>0.000372</td>\n",
       "      <td>0.000627</td>\n",
       "      <td>0.008708</td>\n",
       "      <td>0.000513</td>\n",
       "      <td>0.005525</td>\n",
       "      <td>0.000165</td>\n",
       "      <td>0.002143</td>\n",
       "      <td>...</td>\n",
       "      <td>0.003044</td>\n",
       "      <td>0.001162</td>\n",
       "      <td>0.005733</td>\n",
       "      <td>0.002083</td>\n",
       "      <td>0.003058</td>\n",
       "      <td>0.003102</td>\n",
       "      <td>0.000540</td>\n",
       "      <td>0.000233</td>\n",
       "      <td>0.000574</td>\n",
       "      <td>0.001559</td>\n",
       "    </tr>\n",
       "    <tr>\n",
       "      <th>2</th>\n",
       "      <td>1872382287_15</td>\n",
       "      <td>0.000854</td>\n",
       "      <td>0.015027</td>\n",
       "      <td>0.000441</td>\n",
       "      <td>0.001148</td>\n",
       "      <td>0.002472</td>\n",
       "      <td>0.000176</td>\n",
       "      <td>0.020864</td>\n",
       "      <td>0.000158</td>\n",
       "      <td>0.003749</td>\n",
       "      <td>...</td>\n",
       "      <td>0.001306</td>\n",
       "      <td>0.000825</td>\n",
       "      <td>0.005603</td>\n",
       "      <td>0.012217</td>\n",
       "      <td>0.001471</td>\n",
       "      <td>0.000646</td>\n",
       "      <td>0.001246</td>\n",
       "      <td>0.000306</td>\n",
       "      <td>0.000550</td>\n",
       "      <td>0.000745</td>\n",
       "    </tr>\n",
       "    <tr>\n",
       "      <th>3</th>\n",
       "      <td>1872382287_20</td>\n",
       "      <td>0.003600</td>\n",
       "      <td>0.002004</td>\n",
       "      <td>0.000477</td>\n",
       "      <td>0.000346</td>\n",
       "      <td>0.013661</td>\n",
       "      <td>0.001016</td>\n",
       "      <td>0.001575</td>\n",
       "      <td>0.000323</td>\n",
       "      <td>0.002536</td>\n",
       "      <td>...</td>\n",
       "      <td>0.003176</td>\n",
       "      <td>0.002458</td>\n",
       "      <td>0.004385</td>\n",
       "      <td>0.003759</td>\n",
       "      <td>0.002755</td>\n",
       "      <td>0.005720</td>\n",
       "      <td>0.000306</td>\n",
       "      <td>0.000406</td>\n",
       "      <td>0.000671</td>\n",
       "      <td>0.003012</td>\n",
       "    </tr>\n",
       "    <tr>\n",
       "      <th>4</th>\n",
       "      <td>1872382287_25</td>\n",
       "      <td>0.003129</td>\n",
       "      <td>0.000452</td>\n",
       "      <td>0.000473</td>\n",
       "      <td>0.000265</td>\n",
       "      <td>0.009421</td>\n",
       "      <td>0.000679</td>\n",
       "      <td>0.000728</td>\n",
       "      <td>0.000249</td>\n",
       "      <td>0.001138</td>\n",
       "      <td>...</td>\n",
       "      <td>0.001809</td>\n",
       "      <td>0.001507</td>\n",
       "      <td>0.004953</td>\n",
       "      <td>0.001737</td>\n",
       "      <td>0.001223</td>\n",
       "      <td>0.013611</td>\n",
       "      <td>0.000200</td>\n",
       "      <td>0.000296</td>\n",
       "      <td>0.000395</td>\n",
       "      <td>0.003765</td>\n",
       "    </tr>\n",
       "  </tbody>\n",
       "</table>\n",
       "<p>5 rows × 183 columns</p>\n",
       "</div>"
      ],
      "text/plain": [
       "          row_id    asbfly   ashdro1   ashpri1   ashwoo2   asikoe2   asiope1  \\\n",
       "0   1872382287_5  0.005227  0.002690  0.000633  0.000656  0.007912  0.000712   \n",
       "1  1872382287_10  0.002365  0.003722  0.000372  0.000627  0.008708  0.000513   \n",
       "2  1872382287_15  0.000854  0.015027  0.000441  0.001148  0.002472  0.000176   \n",
       "3  1872382287_20  0.003600  0.002004  0.000477  0.000346  0.013661  0.001016   \n",
       "4  1872382287_25  0.003129  0.000452  0.000473  0.000265  0.009421  0.000679   \n",
       "\n",
       "    aspfly1   aspswi1   barfly1  ...   whbwoo2   whcbar1   whiter2    whrmun  \\\n",
       "0  0.001363  0.000234  0.001599  ...  0.007649  0.003922  0.001839  0.002102   \n",
       "1  0.005525  0.000165  0.002143  ...  0.003044  0.001162  0.005733  0.002083   \n",
       "2  0.020864  0.000158  0.003749  ...  0.001306  0.000825  0.005603  0.012217   \n",
       "3  0.001575  0.000323  0.002536  ...  0.003176  0.002458  0.004385  0.003759   \n",
       "4  0.000728  0.000249  0.001138  ...  0.001809  0.001507  0.004953  0.001737   \n",
       "\n",
       "    whtkin2    woosan   wynlau1   yebbab1   yebbul3   zitcis1  \n",
       "0  0.004886  0.002420  0.000276  0.000181  0.000678  0.001340  \n",
       "1  0.003058  0.003102  0.000540  0.000233  0.000574  0.001559  \n",
       "2  0.001471  0.000646  0.001246  0.000306  0.000550  0.000745  \n",
       "3  0.002755  0.005720  0.000306  0.000406  0.000671  0.003012  \n",
       "4  0.001223  0.013611  0.000200  0.000296  0.000395  0.003765  \n",
       "\n",
       "[5 rows x 183 columns]"
      ]
     },
     "execution_count": 306,
     "metadata": {},
     "output_type": "execute_result"
    }
   ],
   "source": [
    "pred_df = pd.DataFrame(ids, columns=['row_id'])\n",
    "pred_df.loc[:, CFG.class_names] = preds\n",
    "pred_df.to_csv('/kaggle/working/submission.csv',index=False)\n",
    "pred_df.head()"
   ]
  },
  {
   "cell_type": "code",
   "execution_count": 307,
   "metadata": {
    "execution": {
     "iopub.execute_input": "2024-06-10T16:54:02.517856Z",
     "iopub.status.busy": "2024-06-10T16:54:02.517477Z",
     "iopub.status.idle": "2024-06-10T16:54:02.551881Z",
     "shell.execute_reply": "2024-06-10T16:54:02.550556Z",
     "shell.execute_reply.started": "2024-06-10T16:54:02.517824Z"
    },
    "trusted": true
   },
   "outputs": [
    {
     "data": {
      "text/html": [
       "<div>\n",
       "<style scoped>\n",
       "    .dataframe tbody tr th:only-of-type {\n",
       "        vertical-align: middle;\n",
       "    }\n",
       "\n",
       "    .dataframe tbody tr th {\n",
       "        vertical-align: top;\n",
       "    }\n",
       "\n",
       "    .dataframe thead th {\n",
       "        text-align: right;\n",
       "    }\n",
       "</style>\n",
       "<table border=\"1\" class=\"dataframe\">\n",
       "  <thead>\n",
       "    <tr style=\"text-align: right;\">\n",
       "      <th></th>\n",
       "      <th>row_id</th>\n",
       "      <th>asbfly</th>\n",
       "      <th>ashdro1</th>\n",
       "      <th>ashpri1</th>\n",
       "      <th>ashwoo2</th>\n",
       "      <th>asikoe2</th>\n",
       "      <th>asiope1</th>\n",
       "      <th>aspfly1</th>\n",
       "      <th>aspswi1</th>\n",
       "      <th>barfly1</th>\n",
       "      <th>...</th>\n",
       "      <th>whbwoo2</th>\n",
       "      <th>whcbar1</th>\n",
       "      <th>whiter2</th>\n",
       "      <th>whrmun</th>\n",
       "      <th>whtkin2</th>\n",
       "      <th>woosan</th>\n",
       "      <th>wynlau1</th>\n",
       "      <th>yebbab1</th>\n",
       "      <th>yebbul3</th>\n",
       "      <th>zitcis1</th>\n",
       "    </tr>\n",
       "  </thead>\n",
       "  <tbody>\n",
       "    <tr>\n",
       "      <th>0</th>\n",
       "      <td>1872382287_5</td>\n",
       "      <td>0.005227</td>\n",
       "      <td>0.002690</td>\n",
       "      <td>0.000633</td>\n",
       "      <td>0.000656</td>\n",
       "      <td>0.007912</td>\n",
       "      <td>0.000712</td>\n",
       "      <td>0.001363</td>\n",
       "      <td>0.000234</td>\n",
       "      <td>0.001599</td>\n",
       "      <td>...</td>\n",
       "      <td>0.007649</td>\n",
       "      <td>0.003922</td>\n",
       "      <td>0.001839</td>\n",
       "      <td>0.002102</td>\n",
       "      <td>0.004886</td>\n",
       "      <td>0.002420</td>\n",
       "      <td>0.000276</td>\n",
       "      <td>0.000181</td>\n",
       "      <td>0.000678</td>\n",
       "      <td>0.001340</td>\n",
       "    </tr>\n",
       "    <tr>\n",
       "      <th>1</th>\n",
       "      <td>1872382287_10</td>\n",
       "      <td>0.002365</td>\n",
       "      <td>0.003722</td>\n",
       "      <td>0.000372</td>\n",
       "      <td>0.000627</td>\n",
       "      <td>0.008708</td>\n",
       "      <td>0.000513</td>\n",
       "      <td>0.005525</td>\n",
       "      <td>0.000165</td>\n",
       "      <td>0.002143</td>\n",
       "      <td>...</td>\n",
       "      <td>0.003044</td>\n",
       "      <td>0.001162</td>\n",
       "      <td>0.005733</td>\n",
       "      <td>0.002083</td>\n",
       "      <td>0.003058</td>\n",
       "      <td>0.003102</td>\n",
       "      <td>0.000540</td>\n",
       "      <td>0.000233</td>\n",
       "      <td>0.000574</td>\n",
       "      <td>0.001559</td>\n",
       "    </tr>\n",
       "    <tr>\n",
       "      <th>2</th>\n",
       "      <td>1872382287_15</td>\n",
       "      <td>0.000854</td>\n",
       "      <td>0.015027</td>\n",
       "      <td>0.000441</td>\n",
       "      <td>0.001148</td>\n",
       "      <td>0.002472</td>\n",
       "      <td>0.000176</td>\n",
       "      <td>0.020864</td>\n",
       "      <td>0.000158</td>\n",
       "      <td>0.003749</td>\n",
       "      <td>...</td>\n",
       "      <td>0.001306</td>\n",
       "      <td>0.000825</td>\n",
       "      <td>0.005603</td>\n",
       "      <td>0.012217</td>\n",
       "      <td>0.001471</td>\n",
       "      <td>0.000646</td>\n",
       "      <td>0.001246</td>\n",
       "      <td>0.000306</td>\n",
       "      <td>0.000550</td>\n",
       "      <td>0.000745</td>\n",
       "    </tr>\n",
       "    <tr>\n",
       "      <th>3</th>\n",
       "      <td>1872382287_20</td>\n",
       "      <td>0.003600</td>\n",
       "      <td>0.002004</td>\n",
       "      <td>0.000477</td>\n",
       "      <td>0.000346</td>\n",
       "      <td>0.013661</td>\n",
       "      <td>0.001016</td>\n",
       "      <td>0.001575</td>\n",
       "      <td>0.000323</td>\n",
       "      <td>0.002536</td>\n",
       "      <td>...</td>\n",
       "      <td>0.003176</td>\n",
       "      <td>0.002458</td>\n",
       "      <td>0.004385</td>\n",
       "      <td>0.003759</td>\n",
       "      <td>0.002755</td>\n",
       "      <td>0.005720</td>\n",
       "      <td>0.000306</td>\n",
       "      <td>0.000406</td>\n",
       "      <td>0.000671</td>\n",
       "      <td>0.003012</td>\n",
       "    </tr>\n",
       "    <tr>\n",
       "      <th>4</th>\n",
       "      <td>1872382287_25</td>\n",
       "      <td>0.003129</td>\n",
       "      <td>0.000452</td>\n",
       "      <td>0.000473</td>\n",
       "      <td>0.000265</td>\n",
       "      <td>0.009421</td>\n",
       "      <td>0.000679</td>\n",
       "      <td>0.000728</td>\n",
       "      <td>0.000249</td>\n",
       "      <td>0.001138</td>\n",
       "      <td>...</td>\n",
       "      <td>0.001809</td>\n",
       "      <td>0.001507</td>\n",
       "      <td>0.004953</td>\n",
       "      <td>0.001737</td>\n",
       "      <td>0.001223</td>\n",
       "      <td>0.013611</td>\n",
       "      <td>0.000200</td>\n",
       "      <td>0.000296</td>\n",
       "      <td>0.000395</td>\n",
       "      <td>0.003765</td>\n",
       "    </tr>\n",
       "    <tr>\n",
       "      <th>...</th>\n",
       "      <td>...</td>\n",
       "      <td>...</td>\n",
       "      <td>...</td>\n",
       "      <td>...</td>\n",
       "      <td>...</td>\n",
       "      <td>...</td>\n",
       "      <td>...</td>\n",
       "      <td>...</td>\n",
       "      <td>...</td>\n",
       "      <td>...</td>\n",
       "      <td>...</td>\n",
       "      <td>...</td>\n",
       "      <td>...</td>\n",
       "      <td>...</td>\n",
       "      <td>...</td>\n",
       "      <td>...</td>\n",
       "      <td>...</td>\n",
       "      <td>...</td>\n",
       "      <td>...</td>\n",
       "      <td>...</td>\n",
       "      <td>...</td>\n",
       "    </tr>\n",
       "    <tr>\n",
       "      <th>475</th>\n",
       "      <td>33854460_220</td>\n",
       "      <td>0.004145</td>\n",
       "      <td>0.002037</td>\n",
       "      <td>0.001667</td>\n",
       "      <td>0.001131</td>\n",
       "      <td>0.017875</td>\n",
       "      <td>0.000818</td>\n",
       "      <td>0.001224</td>\n",
       "      <td>0.005695</td>\n",
       "      <td>0.001042</td>\n",
       "      <td>...</td>\n",
       "      <td>0.004408</td>\n",
       "      <td>0.073656</td>\n",
       "      <td>0.004788</td>\n",
       "      <td>0.006899</td>\n",
       "      <td>0.003349</td>\n",
       "      <td>0.012494</td>\n",
       "      <td>0.000452</td>\n",
       "      <td>0.015104</td>\n",
       "      <td>0.000547</td>\n",
       "      <td>0.001968</td>\n",
       "    </tr>\n",
       "    <tr>\n",
       "      <th>476</th>\n",
       "      <td>33854460_225</td>\n",
       "      <td>0.004877</td>\n",
       "      <td>0.001318</td>\n",
       "      <td>0.001179</td>\n",
       "      <td>0.000816</td>\n",
       "      <td>0.008272</td>\n",
       "      <td>0.000514</td>\n",
       "      <td>0.000591</td>\n",
       "      <td>0.002486</td>\n",
       "      <td>0.000533</td>\n",
       "      <td>...</td>\n",
       "      <td>0.011763</td>\n",
       "      <td>0.210128</td>\n",
       "      <td>0.001771</td>\n",
       "      <td>0.003244</td>\n",
       "      <td>0.003298</td>\n",
       "      <td>0.002900</td>\n",
       "      <td>0.000355</td>\n",
       "      <td>0.004016</td>\n",
       "      <td>0.000707</td>\n",
       "      <td>0.001792</td>\n",
       "    </tr>\n",
       "    <tr>\n",
       "      <th>477</th>\n",
       "      <td>33854460_230</td>\n",
       "      <td>0.002422</td>\n",
       "      <td>0.003406</td>\n",
       "      <td>0.002142</td>\n",
       "      <td>0.001031</td>\n",
       "      <td>0.027336</td>\n",
       "      <td>0.000666</td>\n",
       "      <td>0.001494</td>\n",
       "      <td>0.005899</td>\n",
       "      <td>0.000683</td>\n",
       "      <td>...</td>\n",
       "      <td>0.009321</td>\n",
       "      <td>0.037942</td>\n",
       "      <td>0.003056</td>\n",
       "      <td>0.007153</td>\n",
       "      <td>0.005548</td>\n",
       "      <td>0.012552</td>\n",
       "      <td>0.000496</td>\n",
       "      <td>0.009856</td>\n",
       "      <td>0.000867</td>\n",
       "      <td>0.002272</td>\n",
       "    </tr>\n",
       "    <tr>\n",
       "      <th>478</th>\n",
       "      <td>33854460_235</td>\n",
       "      <td>0.002180</td>\n",
       "      <td>0.003785</td>\n",
       "      <td>0.001617</td>\n",
       "      <td>0.000688</td>\n",
       "      <td>0.034679</td>\n",
       "      <td>0.000545</td>\n",
       "      <td>0.000799</td>\n",
       "      <td>0.004359</td>\n",
       "      <td>0.000840</td>\n",
       "      <td>...</td>\n",
       "      <td>0.008000</td>\n",
       "      <td>0.033929</td>\n",
       "      <td>0.003315</td>\n",
       "      <td>0.003959</td>\n",
       "      <td>0.018962</td>\n",
       "      <td>0.022027</td>\n",
       "      <td>0.000374</td>\n",
       "      <td>0.008114</td>\n",
       "      <td>0.000796</td>\n",
       "      <td>0.001891</td>\n",
       "    </tr>\n",
       "    <tr>\n",
       "      <th>479</th>\n",
       "      <td>33854460_240</td>\n",
       "      <td>0.005566</td>\n",
       "      <td>0.004042</td>\n",
       "      <td>0.002152</td>\n",
       "      <td>0.000801</td>\n",
       "      <td>0.061653</td>\n",
       "      <td>0.000649</td>\n",
       "      <td>0.002288</td>\n",
       "      <td>0.005935</td>\n",
       "      <td>0.001222</td>\n",
       "      <td>...</td>\n",
       "      <td>0.003541</td>\n",
       "      <td>0.014200</td>\n",
       "      <td>0.009398</td>\n",
       "      <td>0.008541</td>\n",
       "      <td>0.005128</td>\n",
       "      <td>0.026043</td>\n",
       "      <td>0.000710</td>\n",
       "      <td>0.008094</td>\n",
       "      <td>0.001216</td>\n",
       "      <td>0.002053</td>\n",
       "    </tr>\n",
       "  </tbody>\n",
       "</table>\n",
       "<p>480 rows × 183 columns</p>\n",
       "</div>"
      ],
      "text/plain": [
       "            row_id    asbfly   ashdro1   ashpri1   ashwoo2   asikoe2  \\\n",
       "0     1872382287_5  0.005227  0.002690  0.000633  0.000656  0.007912   \n",
       "1    1872382287_10  0.002365  0.003722  0.000372  0.000627  0.008708   \n",
       "2    1872382287_15  0.000854  0.015027  0.000441  0.001148  0.002472   \n",
       "3    1872382287_20  0.003600  0.002004  0.000477  0.000346  0.013661   \n",
       "4    1872382287_25  0.003129  0.000452  0.000473  0.000265  0.009421   \n",
       "..             ...       ...       ...       ...       ...       ...   \n",
       "475   33854460_220  0.004145  0.002037  0.001667  0.001131  0.017875   \n",
       "476   33854460_225  0.004877  0.001318  0.001179  0.000816  0.008272   \n",
       "477   33854460_230  0.002422  0.003406  0.002142  0.001031  0.027336   \n",
       "478   33854460_235  0.002180  0.003785  0.001617  0.000688  0.034679   \n",
       "479   33854460_240  0.005566  0.004042  0.002152  0.000801  0.061653   \n",
       "\n",
       "      asiope1   aspfly1   aspswi1   barfly1  ...   whbwoo2   whcbar1  \\\n",
       "0    0.000712  0.001363  0.000234  0.001599  ...  0.007649  0.003922   \n",
       "1    0.000513  0.005525  0.000165  0.002143  ...  0.003044  0.001162   \n",
       "2    0.000176  0.020864  0.000158  0.003749  ...  0.001306  0.000825   \n",
       "3    0.001016  0.001575  0.000323  0.002536  ...  0.003176  0.002458   \n",
       "4    0.000679  0.000728  0.000249  0.001138  ...  0.001809  0.001507   \n",
       "..        ...       ...       ...       ...  ...       ...       ...   \n",
       "475  0.000818  0.001224  0.005695  0.001042  ...  0.004408  0.073656   \n",
       "476  0.000514  0.000591  0.002486  0.000533  ...  0.011763  0.210128   \n",
       "477  0.000666  0.001494  0.005899  0.000683  ...  0.009321  0.037942   \n",
       "478  0.000545  0.000799  0.004359  0.000840  ...  0.008000  0.033929   \n",
       "479  0.000649  0.002288  0.005935  0.001222  ...  0.003541  0.014200   \n",
       "\n",
       "      whiter2    whrmun   whtkin2    woosan   wynlau1   yebbab1   yebbul3  \\\n",
       "0    0.001839  0.002102  0.004886  0.002420  0.000276  0.000181  0.000678   \n",
       "1    0.005733  0.002083  0.003058  0.003102  0.000540  0.000233  0.000574   \n",
       "2    0.005603  0.012217  0.001471  0.000646  0.001246  0.000306  0.000550   \n",
       "3    0.004385  0.003759  0.002755  0.005720  0.000306  0.000406  0.000671   \n",
       "4    0.004953  0.001737  0.001223  0.013611  0.000200  0.000296  0.000395   \n",
       "..        ...       ...       ...       ...       ...       ...       ...   \n",
       "475  0.004788  0.006899  0.003349  0.012494  0.000452  0.015104  0.000547   \n",
       "476  0.001771  0.003244  0.003298  0.002900  0.000355  0.004016  0.000707   \n",
       "477  0.003056  0.007153  0.005548  0.012552  0.000496  0.009856  0.000867   \n",
       "478  0.003315  0.003959  0.018962  0.022027  0.000374  0.008114  0.000796   \n",
       "479  0.009398  0.008541  0.005128  0.026043  0.000710  0.008094  0.001216   \n",
       "\n",
       "      zitcis1  \n",
       "0    0.001340  \n",
       "1    0.001559  \n",
       "2    0.000745  \n",
       "3    0.003012  \n",
       "4    0.003765  \n",
       "..        ...  \n",
       "475  0.001968  \n",
       "476  0.001792  \n",
       "477  0.002272  \n",
       "478  0.001891  \n",
       "479  0.002053  \n",
       "\n",
       "[480 rows x 183 columns]"
      ]
     },
     "execution_count": 307,
     "metadata": {},
     "output_type": "execute_result"
    }
   ],
   "source": [
    "pred_df"
   ]
  },
  {
   "cell_type": "code",
   "execution_count": 308,
   "metadata": {
    "execution": {
     "iopub.execute_input": "2024-06-10T16:54:02.554647Z",
     "iopub.status.busy": "2024-06-10T16:54:02.554152Z",
     "iopub.status.idle": "2024-06-10T16:54:02.560997Z",
     "shell.execute_reply": "2024-06-10T16:54:02.559486Z",
     "shell.execute_reply.started": "2024-06-10T16:54:02.554614Z"
    },
    "trusted": true
   },
   "outputs": [],
   "source": [
    "# import math\n",
    "\n",
    "# def get_lr_callback(batch_size=8, mode='cos', epochs=10, plot=False):\n",
    "#     lr_start, lr_max, lr_min = 5e-5, 8e-6 * batch_size, 1e-5\n",
    "#     lr_ramp_ep, lr_sus_ep, lr_decay = 3, 0, 0.75\n",
    "\n",
    "#     def lrfn(epoch):  # Learning rate update function\n",
    "#         if epoch < lr_ramp_ep: lr = (lr_max - lr_start) / lr_ramp_ep * epoch + lr_start\n",
    "#         elif epoch < lr_ramp_ep + lr_sus_ep: lr = lr_max\n",
    "#         elif mode == 'exp': lr = (lr_max - lr_min) * lr_decay**(epoch - lr_ramp_ep - lr_sus_ep) + lr_min\n",
    "#         elif mode == 'step': lr = lr_max * lr_decay**((epoch - lr_ramp_ep - lr_sus_ep) // 2)\n",
    "#         elif mode == 'cos':\n",
    "#             decay_total_epochs, decay_epoch_index = epochs - lr_ramp_ep - lr_sus_ep + 3, epoch - lr_ramp_ep - lr_sus_ep\n",
    "#             phase = math.pi * decay_epoch_index / decay_total_epochs\n",
    "#             lr = (lr_max - lr_min) * 0.5 * (1 + math.cos(phase)) + lr_min\n",
    "#         return lr\n",
    "\n",
    "#     if plot:  # Plot lr curve if plot is True\n",
    "#         plt.figure(figsize=(10, 5))\n",
    "#         plt.plot(np.arange(epochs), [lrfn(epoch) for epoch in np.arange(epochs)], marker='o')\n",
    "#         plt.xlabel('epoch'); plt.ylabel('lr')\n",
    "#         plt.title('LR Scheduler')\n",
    "#         plt.show()\n",
    "\n",
    "#     return keras.callbacks.LearningRateScheduler(lrfn, verbose=False)  # Create lr callback"
   ]
  },
  {
   "cell_type": "code",
   "execution_count": 309,
   "metadata": {
    "execution": {
     "iopub.execute_input": "2024-06-10T16:54:02.563527Z",
     "iopub.status.busy": "2024-06-10T16:54:02.563124Z",
     "iopub.status.idle": "2024-06-10T16:54:02.581168Z",
     "shell.execute_reply": "2024-06-10T16:54:02.580059Z",
     "shell.execute_reply.started": "2024-06-10T16:54:02.563489Z"
    },
    "trusted": true
   },
   "outputs": [],
   "source": [
    "# lr_cb = get_lr_callback(CFG.batch_size, plot=True)"
   ]
  },
  {
   "cell_type": "code",
   "execution_count": 310,
   "metadata": {
    "execution": {
     "iopub.execute_input": "2024-06-10T16:54:02.583083Z",
     "iopub.status.busy": "2024-06-10T16:54:02.582745Z",
     "iopub.status.idle": "2024-06-10T16:54:02.596906Z",
     "shell.execute_reply": "2024-06-10T16:54:02.595405Z",
     "shell.execute_reply.started": "2024-06-10T16:54:02.583046Z"
    },
    "trusted": true
   },
   "outputs": [],
   "source": [
    "# ckpt_cb = keras.callbacks.ModelCheckpoint(\"best_model.weights.h5\",\n",
    "#                                          monitor='val_auc',\n",
    "#                                          save_best_only=True,\n",
    "#                                          save_weights_only=True,\n",
    "#                                          mode='max')"
   ]
  },
  {
   "cell_type": "code",
   "execution_count": 311,
   "metadata": {
    "execution": {
     "iopub.execute_input": "2024-06-10T16:54:02.599165Z",
     "iopub.status.busy": "2024-06-10T16:54:02.598770Z",
     "iopub.status.idle": "2024-06-10T16:54:02.608750Z",
     "shell.execute_reply": "2024-06-10T16:54:02.607201Z",
     "shell.execute_reply.started": "2024-06-10T16:54:02.599134Z"
    },
    "trusted": true
   },
   "outputs": [],
   "source": [
    "# history = model.fit(\n",
    "#     train_ds, \n",
    "#     validation_data=valid_ds, \n",
    "#     epochs=CFG.epochs,\n",
    "#     callbacks=[lr_cb, ckpt_cb], \n",
    "#     verbose=1\n",
    "# )"
   ]
  },
  {
   "cell_type": "code",
   "execution_count": null,
   "metadata": {},
   "outputs": [],
   "source": []
  },
  {
   "cell_type": "code",
   "execution_count": 312,
   "metadata": {
    "execution": {
     "iopub.execute_input": "2024-06-10T16:54:02.611211Z",
     "iopub.status.busy": "2024-06-10T16:54:02.610398Z",
     "iopub.status.idle": "2024-06-10T16:54:02.620833Z",
     "shell.execute_reply": "2024-06-10T16:54:02.619578Z",
     "shell.execute_reply.started": "2024-06-10T16:54:02.611127Z"
    },
    "trusted": true
   },
   "outputs": [],
   "source": [
    "# train_df = pd.read_csv('/kaggle/input/birdclef-2024/train_metadata.csv')\n",
    "# relation_df = pd.read_csv('/kaggle/input/birdclef-2024/eBird_Taxonomy_v2021.csv')"
   ]
  },
  {
   "cell_type": "code",
   "execution_count": 313,
   "metadata": {
    "execution": {
     "iopub.execute_input": "2024-06-10T16:54:02.622355Z",
     "iopub.status.busy": "2024-06-10T16:54:02.621993Z",
     "iopub.status.idle": "2024-06-10T16:54:02.633223Z",
     "shell.execute_reply": "2024-06-10T16:54:02.631375Z",
     "shell.execute_reply.started": "2024-06-10T16:54:02.622327Z"
    },
    "trusted": true
   },
   "outputs": [],
   "source": [
    "# train_df.tail()"
   ]
  },
  {
   "cell_type": "markdown",
   "metadata": {},
   "source": [
    "### Load and decode audio data"
   ]
  },
  {
   "cell_type": "markdown",
   "metadata": {},
   "source": [
    "# Detect Number of channel in audio file"
   ]
  },
  {
   "cell_type": "code",
   "execution_count": 314,
   "metadata": {
    "execution": {
     "iopub.execute_input": "2024-06-10T16:54:02.641388Z",
     "iopub.status.busy": "2024-06-10T16:54:02.641010Z",
     "iopub.status.idle": "2024-06-10T16:54:02.648946Z",
     "shell.execute_reply": "2024-06-10T16:54:02.647781Z",
     "shell.execute_reply.started": "2024-06-10T16:54:02.641356Z"
    },
    "trusted": true
   },
   "outputs": [],
   "source": [
    "# import tensorflow as tf\n",
    "# import tensorflow_io as tfio\n",
    "\n",
    "# # Function to load an OGG file\n",
    "# def load_ogg_audio(filename):\n",
    "#     # Read the file\n",
    "#     # Decode the OGG file\n",
    "#     audio_data = tfio.audio.AudioIOTensor(filename)\n",
    "#     return audio_data\n",
    "\n",
    "# # Replace 'your_audio_file.ogg' with your actual OGG audio file path\n",
    "# audio = load_ogg_audio('/kaggle/input/birdclef-2024/train_audio/asbfly/XC164848.ogg')\n",
    "\n",
    "# # Convert the audio tensor to a numpy array\n"
   ]
  },
  {
   "cell_type": "markdown",
   "metadata": {},
   "source": [
    "### Inferencing"
   ]
  },
  {
   "cell_type": "markdown",
   "metadata": {},
   "source": []
  },
  {
   "cell_type": "code",
   "execution_count": 315,
   "metadata": {
    "execution": {
     "iopub.execute_input": "2024-06-10T16:54:02.650542Z",
     "iopub.status.busy": "2024-06-10T16:54:02.650146Z",
     "iopub.status.idle": "2024-06-10T16:54:02.661323Z",
     "shell.execute_reply": "2024-06-10T16:54:02.659978Z",
     "shell.execute_reply.started": "2024-06-10T16:54:02.650484Z"
    },
    "trusted": true
   },
   "outputs": [],
   "source": [
    "# audio"
   ]
  },
  {
   "cell_type": "markdown",
   "metadata": {},
   "source": [
    "### Spectogram"
   ]
  },
  {
   "cell_type": "code",
   "execution_count": 316,
   "metadata": {
    "execution": {
     "iopub.execute_input": "2024-06-10T16:54:02.664669Z",
     "iopub.status.busy": "2024-06-10T16:54:02.663726Z",
     "iopub.status.idle": "2024-06-10T16:54:02.674974Z",
     "shell.execute_reply": "2024-06-10T16:54:02.673453Z",
     "shell.execute_reply.started": "2024-06-10T16:54:02.664614Z"
    },
    "trusted": true
   },
   "outputs": [],
   "source": [
    "# audio_slice = audio[:96000]\n",
    "\n",
    "# # No need to squeeze\n",
    "# audio_tensor = tf.squeeze(audio_slice, axis=[-1])"
   ]
  },
  {
   "cell_type": "code",
   "execution_count": 317,
   "metadata": {
    "execution": {
     "iopub.execute_input": "2024-06-10T16:54:02.677770Z",
     "iopub.status.busy": "2024-06-10T16:54:02.677285Z",
     "iopub.status.idle": "2024-06-10T16:54:02.687962Z",
     "shell.execute_reply": "2024-06-10T16:54:02.686414Z",
     "shell.execute_reply.started": "2024-06-10T16:54:02.677738Z"
    },
    "trusted": true
   },
   "outputs": [],
   "source": [
    "# audio_tensor"
   ]
  },
  {
   "cell_type": "code",
   "execution_count": 318,
   "metadata": {
    "execution": {
     "iopub.execute_input": "2024-06-10T16:54:02.690490Z",
     "iopub.status.busy": "2024-06-10T16:54:02.689961Z",
     "iopub.status.idle": "2024-06-10T16:54:02.701487Z",
     "shell.execute_reply": "2024-06-10T16:54:02.699704Z",
     "shell.execute_reply.started": "2024-06-10T16:54:02.690446Z"
    },
    "trusted": true
   },
   "outputs": [],
   "source": [
    "# from IPython.display import Audio\n",
    "\n",
    "# Audio(audio_tensor.numpy(), rate=audio.rate.numpy())"
   ]
  },
  {
   "cell_type": "code",
   "execution_count": 319,
   "metadata": {
    "execution": {
     "iopub.execute_input": "2024-06-10T16:54:02.703655Z",
     "iopub.status.busy": "2024-06-10T16:54:02.703172Z",
     "iopub.status.idle": "2024-06-10T16:54:02.714840Z",
     "shell.execute_reply": "2024-06-10T16:54:02.712798Z",
     "shell.execute_reply.started": "2024-06-10T16:54:02.703616Z"
    },
    "trusted": true
   },
   "outputs": [],
   "source": [
    "# import matplotlib.pyplot as plt\n",
    "\n",
    "\n",
    "# tensor = tf.cast(audio_tensor, tf.float32) / 32768.0\n",
    "\n",
    "# plt.figure()\n",
    "# plt.plot(tensor.numpy())"
   ]
  },
  {
   "cell_type": "code",
   "execution_count": 320,
   "metadata": {
    "execution": {
     "iopub.execute_input": "2024-06-10T16:54:02.717447Z",
     "iopub.status.busy": "2024-06-10T16:54:02.717065Z",
     "iopub.status.idle": "2024-06-10T16:54:02.729975Z",
     "shell.execute_reply": "2024-06-10T16:54:02.728490Z",
     "shell.execute_reply.started": "2024-06-10T16:54:02.717417Z"
    },
    "trusted": true
   },
   "outputs": [],
   "source": [
    "# tensor"
   ]
  },
  {
   "cell_type": "code",
   "execution_count": 321,
   "metadata": {
    "execution": {
     "iopub.execute_input": "2024-06-10T16:54:02.732512Z",
     "iopub.status.busy": "2024-06-10T16:54:02.731974Z",
     "iopub.status.idle": "2024-06-10T16:54:02.741846Z",
     "shell.execute_reply": "2024-06-10T16:54:02.740699Z",
     "shell.execute_reply.started": "2024-06-10T16:54:02.732427Z"
    },
    "trusted": true
   },
   "outputs": [],
   "source": [
    "# min_value = tf.reduce_min(tensor)\n",
    "\n",
    "# # Get the maximum value\n",
    "# max_value = tf.reduce_max(tensor)\n",
    "\n",
    "# print(\"Minimum value:\", min_value.numpy())\n",
    "# print(\"Maximum value:\", max_value.numpy())"
   ]
  },
  {
   "cell_type": "code",
   "execution_count": 322,
   "metadata": {
    "execution": {
     "iopub.execute_input": "2024-06-10T16:54:02.743935Z",
     "iopub.status.busy": "2024-06-10T16:54:02.743421Z",
     "iopub.status.idle": "2024-06-10T16:54:02.752715Z",
     "shell.execute_reply": "2024-06-10T16:54:02.751633Z",
     "shell.execute_reply.started": "2024-06-10T16:54:02.743893Z"
    },
    "trusted": true
   },
   "outputs": [],
   "source": [
    "# position = tfio.audio.trim(tensor, axis=0, epsilon=0.0000004)\n",
    "# print(position)\n",
    "\n",
    "# start = position[0]\n",
    "# stop = position[1]\n",
    "# print(start, stop)\n",
    "\n",
    "# processed = tensor[start:stop]\n",
    "\n",
    "# plt.figure()\n",
    "# plt.plot(processed.numpy())"
   ]
  },
  {
   "cell_type": "markdown",
   "metadata": {},
   "source": [
    "# Fading the audio signal "
   ]
  },
  {
   "cell_type": "code",
   "execution_count": 323,
   "metadata": {
    "execution": {
     "iopub.execute_input": "2024-06-10T16:54:02.754519Z",
     "iopub.status.busy": "2024-06-10T16:54:02.754087Z",
     "iopub.status.idle": "2024-06-10T16:54:02.763890Z",
     "shell.execute_reply": "2024-06-10T16:54:02.762584Z",
     "shell.execute_reply.started": "2024-06-10T16:54:02.754458Z"
    },
    "trusted": true
   },
   "outputs": [],
   "source": [
    "# fade = tfio.audio.fade(\n",
    "#     processed, fade_in=1000, fade_out=1000, mode=\"logarithmic\")\n",
    "\n",
    "# plt.figure()\n",
    "# plt.plot(fade.numpy())"
   ]
  },
  {
   "cell_type": "markdown",
   "metadata": {},
   "source": [
    "# Spectogram Visualization"
   ]
  },
  {
   "cell_type": "code",
   "execution_count": 324,
   "metadata": {
    "execution": {
     "iopub.execute_input": "2024-06-10T16:54:02.765328Z",
     "iopub.status.busy": "2024-06-10T16:54:02.764981Z",
     "iopub.status.idle": "2024-06-10T16:54:02.773640Z",
     "shell.execute_reply": "2024-06-10T16:54:02.772463Z",
     "shell.execute_reply.started": "2024-06-10T16:54:02.765294Z"
    },
    "trusted": true
   },
   "outputs": [],
   "source": [
    "# # Convert to spectrogram\n",
    "# spectrogram = tfio.audio.spectrogram(\n",
    "#     fade, nfft=1024, window=1024, stride=128)\n",
    "\n",
    "# plt.figure()\n",
    "# plt.imshow(tf.math.log(spectrogram).numpy())"
   ]
  },
  {
   "cell_type": "code",
   "execution_count": 325,
   "metadata": {
    "execution": {
     "iopub.execute_input": "2024-06-10T16:54:02.775498Z",
     "iopub.status.busy": "2024-06-10T16:54:02.775065Z",
     "iopub.status.idle": "2024-06-10T16:54:02.785526Z",
     "shell.execute_reply": "2024-06-10T16:54:02.784354Z",
     "shell.execute_reply.started": "2024-06-10T16:54:02.775458Z"
    },
    "trusted": true
   },
   "outputs": [],
   "source": [
    "# # Convert to mel-spectrogram\n",
    "# mel_spectrogram = tfio.audio.melscale(\n",
    "#     spectrogram, rate=18000, mels=128, fmin=0, fmax=8000)\n",
    "\n",
    "\n",
    "# plt.figure()\n",
    "# plt.imshow(tf.math.log(mel_spectrogram).numpy())\n",
    "\n",
    "# # Convert to db scale mel-spectrogram\n",
    "# dbscale_mel_spectrogram = tfio.audio.dbscale(\n",
    "#     mel_spectrogram, top_db=80)\n",
    "\n",
    "# plt.figure()\n",
    "# plt.imshow(dbscale_mel_spectrogram.numpy())"
   ]
  },
  {
   "cell_type": "code",
   "execution_count": 326,
   "metadata": {
    "execution": {
     "iopub.execute_input": "2024-06-10T16:54:02.787386Z",
     "iopub.status.busy": "2024-06-10T16:54:02.786948Z",
     "iopub.status.idle": "2024-06-10T16:54:02.797379Z",
     "shell.execute_reply": "2024-06-10T16:54:02.796265Z",
     "shell.execute_reply.started": "2024-06-10T16:54:02.787349Z"
    },
    "trusted": true
   },
   "outputs": [],
   "source": [
    "#spectrogram = tfio.audio.spectrogram(audio_tensor, nfft=2048, window=2048, stride=512)"
   ]
  },
  {
   "cell_type": "code",
   "execution_count": null,
   "metadata": {},
   "outputs": [],
   "source": []
  },
  {
   "cell_type": "markdown",
   "metadata": {},
   "source": [
    "# Frequency Distribution of each  birds category"
   ]
  },
  {
   "cell_type": "code",
   "execution_count": 327,
   "metadata": {
    "execution": {
     "iopub.execute_input": "2024-06-10T16:54:02.799332Z",
     "iopub.status.busy": "2024-06-10T16:54:02.798952Z",
     "iopub.status.idle": "2024-06-10T16:54:02.812376Z",
     "shell.execute_reply": "2024-06-10T16:54:02.811243Z",
     "shell.execute_reply.started": "2024-06-10T16:54:02.799301Z"
    },
    "trusted": true
   },
   "outputs": [],
   "source": [
    "# import matplotlib.pyplot as plt\n",
    "# import seaborn as sbn"
   ]
  },
  {
   "cell_type": "code",
   "execution_count": 328,
   "metadata": {
    "execution": {
     "iopub.execute_input": "2024-06-10T16:54:02.814107Z",
     "iopub.status.busy": "2024-06-10T16:54:02.813728Z",
     "iopub.status.idle": "2024-06-10T16:54:02.823769Z",
     "shell.execute_reply": "2024-06-10T16:54:02.822663Z",
     "shell.execute_reply.started": "2024-06-10T16:54:02.814078Z"
    },
    "trusted": true
   },
   "outputs": [],
   "source": [
    "# category_counts = train_df['primary_label'].value_counts()"
   ]
  },
  {
   "cell_type": "code",
   "execution_count": 329,
   "metadata": {
    "execution": {
     "iopub.execute_input": "2024-06-10T16:54:02.825551Z",
     "iopub.status.busy": "2024-06-10T16:54:02.825156Z",
     "iopub.status.idle": "2024-06-10T16:54:02.835230Z",
     "shell.execute_reply": "2024-06-10T16:54:02.833761Z",
     "shell.execute_reply.started": "2024-06-10T16:54:02.825474Z"
    },
    "trusted": true
   },
   "outputs": [],
   "source": [
    "# category_counts"
   ]
  },
  {
   "cell_type": "code",
   "execution_count": 330,
   "metadata": {
    "execution": {
     "iopub.execute_input": "2024-06-10T16:54:02.837372Z",
     "iopub.status.busy": "2024-06-10T16:54:02.836908Z",
     "iopub.status.idle": "2024-06-10T16:54:02.847046Z",
     "shell.execute_reply": "2024-06-10T16:54:02.845951Z",
     "shell.execute_reply.started": "2024-06-10T16:54:02.837333Z"
    },
    "trusted": true
   },
   "outputs": [],
   "source": [
    "\n",
    "\n",
    "# # Plotting the horizontal bar chart\n",
    "# plt.figure(figsize=(15,20 ))\n",
    "# category_counts.plot(kind='barh', color='skyblue')\n",
    "# plt.xlabel('Count')\n",
    "# plt.ylabel('Category')\n",
    "# plt.title('Distribution of Categories')\n",
    "# plt.grid(axis='x', linestyle='--', alpha=0.7)\n",
    "# plt.show()"
   ]
  },
  {
   "cell_type": "code",
   "execution_count": 331,
   "metadata": {
    "execution": {
     "iopub.execute_input": "2024-06-10T16:54:02.848639Z",
     "iopub.status.busy": "2024-06-10T16:54:02.848335Z",
     "iopub.status.idle": "2024-06-10T16:54:02.857579Z",
     "shell.execute_reply": "2024-06-10T16:54:02.856429Z",
     "shell.execute_reply.started": "2024-06-10T16:54:02.848614Z"
    },
    "trusted": true
   },
   "outputs": [],
   "source": [
    "# len(train_df['primary_label'].unique())"
   ]
  },
  {
   "cell_type": "code",
   "execution_count": 332,
   "metadata": {
    "execution": {
     "iopub.execute_input": "2024-06-10T16:54:02.859227Z",
     "iopub.status.busy": "2024-06-10T16:54:02.858839Z",
     "iopub.status.idle": "2024-06-10T16:54:02.869688Z",
     "shell.execute_reply": "2024-06-10T16:54:02.868498Z",
     "shell.execute_reply.started": "2024-06-10T16:54:02.859159Z"
    },
    "trusted": true
   },
   "outputs": [],
   "source": [
    "# relation_df.head(5)"
   ]
  },
  {
   "cell_type": "code",
   "execution_count": 333,
   "metadata": {
    "execution": {
     "iopub.execute_input": "2024-06-10T16:54:02.871413Z",
     "iopub.status.busy": "2024-06-10T16:54:02.871055Z",
     "iopub.status.idle": "2024-06-10T16:54:02.881146Z",
     "shell.execute_reply": "2024-06-10T16:54:02.880019Z",
     "shell.execute_reply.started": "2024-06-10T16:54:02.871379Z"
    },
    "trusted": true
   },
   "outputs": [],
   "source": [
    "# relation_df['CATEGORY'].unique()"
   ]
  },
  {
   "cell_type": "code",
   "execution_count": 334,
   "metadata": {
    "execution": {
     "iopub.execute_input": "2024-06-10T16:54:02.882891Z",
     "iopub.status.busy": "2024-06-10T16:54:02.882542Z",
     "iopub.status.idle": "2024-06-10T16:54:02.892711Z",
     "shell.execute_reply": "2024-06-10T16:54:02.891529Z",
     "shell.execute_reply.started": "2024-06-10T16:54:02.882849Z"
    },
    "trusted": true
   },
   "outputs": [],
   "source": [
    "# relation_df['SPECIES_CODE'].unique()"
   ]
  },
  {
   "cell_type": "code",
   "execution_count": 335,
   "metadata": {
    "execution": {
     "iopub.execute_input": "2024-06-10T16:54:02.894519Z",
     "iopub.status.busy": "2024-06-10T16:54:02.894139Z",
     "iopub.status.idle": "2024-06-10T16:54:02.902836Z",
     "shell.execute_reply": "2024-06-10T16:54:02.901747Z",
     "shell.execute_reply.started": "2024-06-10T16:54:02.894489Z"
    },
    "trusted": true
   },
   "outputs": [],
   "source": [
    "# relation_df.info()"
   ]
  },
  {
   "cell_type": "markdown",
   "metadata": {},
   "source": [
    "# Configuration"
   ]
  },
  {
   "cell_type": "code",
   "execution_count": 336,
   "metadata": {
    "execution": {
     "iopub.execute_input": "2024-06-10T16:54:02.904753Z",
     "iopub.status.busy": "2024-06-10T16:54:02.904317Z",
     "iopub.status.idle": "2024-06-10T16:54:02.914959Z",
     "shell.execute_reply": "2024-06-10T16:54:02.913549Z",
     "shell.execute_reply.started": "2024-06-10T16:54:02.904685Z"
    },
    "trusted": true
   },
   "outputs": [],
   "source": [
    "# import os\n",
    "# class CFG:\n",
    "#     seed = 42\n",
    "    \n",
    "#     # Input image size and batch size\n",
    "#     img_size = [128, 384]\n",
    "#     batch_size = 32\n",
    "    \n",
    "#     # Audio duration, sample rate, and length\n",
    "#     duration = 5 # second\n",
    "#     sample_rate = 32000\n",
    "#     audio_len = duration*sample_rate\n",
    "    \n",
    "#     # STFT parameters\n",
    "#     nfft = 2028\n",
    "#     window = 2048\n",
    "#     hop_length = audio_len // (img_size[1] - 1)\n",
    "#     fmin = 20\n",
    "#     fmax = 16000\n",
    "    \n",
    "#     # Number of epochs, model name\n",
    "#     epochs = 5\n",
    "#     preset = 'efficientnetv2_b2_imagenet'\n",
    "    \n",
    "#     # Data augmentation parameters\n",
    "#     augment=True\n",
    "\n",
    "#     # Class Labels for BirdCLEF 24\n",
    "#     class_names = sorted(os.listdir('/kaggle/input/birdclef-2024/train_audio/'))\n",
    "#     num_classes = len(class_names)\n",
    "#     class_labels = list(range(num_classes))\n",
    "#     label2name = dict(zip(class_labels, class_names))\n",
    "#     name2label = {v:k for k,v in label2name.items()}"
   ]
  },
  {
   "cell_type": "code",
   "execution_count": 337,
   "metadata": {
    "execution": {
     "iopub.execute_input": "2024-06-10T16:54:02.916868Z",
     "iopub.status.busy": "2024-06-10T16:54:02.916527Z",
     "iopub.status.idle": "2024-06-10T16:54:02.925821Z",
     "shell.execute_reply": "2024-06-10T16:54:02.924648Z",
     "shell.execute_reply.started": "2024-06-10T16:54:02.916841Z"
    },
    "trusted": true
   },
   "outputs": [],
   "source": [
    "# BASE_PATH = '/kaggle/input/birdclef-2024'"
   ]
  },
  {
   "cell_type": "code",
   "execution_count": 338,
   "metadata": {
    "execution": {
     "iopub.execute_input": "2024-06-10T16:54:02.927580Z",
     "iopub.status.busy": "2024-06-10T16:54:02.927230Z",
     "iopub.status.idle": "2024-06-10T16:54:02.936967Z",
     "shell.execute_reply": "2024-06-10T16:54:02.935679Z",
     "shell.execute_reply.started": "2024-06-10T16:54:02.927541Z"
    },
    "trusted": true
   },
   "outputs": [],
   "source": [
    "# train_df['file_path'] = BASE_PATH + '/train_audio/' + train_df.filename\n",
    "# train_df['target']  = train_df.primary_label.map(CFG.name2label)"
   ]
  },
  {
   "cell_type": "code",
   "execution_count": 339,
   "metadata": {
    "execution": {
     "iopub.execute_input": "2024-06-10T16:54:02.939349Z",
     "iopub.status.busy": "2024-06-10T16:54:02.938963Z",
     "iopub.status.idle": "2024-06-10T16:54:02.949643Z",
     "shell.execute_reply": "2024-06-10T16:54:02.948563Z",
     "shell.execute_reply.started": "2024-06-10T16:54:02.939317Z"
    },
    "trusted": true
   },
   "outputs": [],
   "source": [
    "# train_df.columns"
   ]
  },
  {
   "cell_type": "code",
   "execution_count": 340,
   "metadata": {
    "execution": {
     "iopub.execute_input": "2024-06-10T16:54:02.951336Z",
     "iopub.status.busy": "2024-06-10T16:54:02.951000Z",
     "iopub.status.idle": "2024-06-10T16:54:02.960333Z",
     "shell.execute_reply": "2024-06-10T16:54:02.959215Z",
     "shell.execute_reply.started": "2024-06-10T16:54:02.951309Z"
    },
    "trusted": true
   },
   "outputs": [],
   "source": [
    "# import os\n",
    "# os.environ[\"KERAS_BACKEND\"] = \"tensorflow\"\n",
    "# import tensorflow as tf\n",
    "# import tensorflow_io as tfio\n",
    "#   # \"jax\" or \"tensorflow\" or \"torch\" \n",
    "\n",
    "# import keras_cv\n",
    "# import keras\n",
    "\n"
   ]
  },
  {
   "cell_type": "markdown",
   "metadata": {},
   "source": [
    "# Preprocessing"
   ]
  },
  {
   "cell_type": "code",
   "execution_count": 341,
   "metadata": {
    "execution": {
     "iopub.execute_input": "2024-06-10T16:54:02.962209Z",
     "iopub.status.busy": "2024-06-10T16:54:02.961772Z",
     "iopub.status.idle": "2024-06-10T16:54:02.975472Z",
     "shell.execute_reply": "2024-06-10T16:54:02.974336Z",
     "shell.execute_reply.started": "2024-06-10T16:54:02.962160Z"
    },
    "trusted": true
   },
   "outputs": [],
   "source": [
    "# file_path_tensor = tf.constant(train_df['file_path'].values)\n",
    "# target_tensor = tf.constant(train_df['target'].values)"
   ]
  },
  {
   "cell_type": "code",
   "execution_count": 342,
   "metadata": {
    "execution": {
     "iopub.execute_input": "2024-06-10T16:54:02.977103Z",
     "iopub.status.busy": "2024-06-10T16:54:02.976764Z",
     "iopub.status.idle": "2024-06-10T16:54:02.987151Z",
     "shell.execute_reply": "2024-06-10T16:54:02.985984Z",
     "shell.execute_reply.started": "2024-06-10T16:54:02.977074Z"
    },
    "trusted": true
   },
   "outputs": [],
   "source": [
    "#dataset = tf.data.Dataset.from_tensor_slices((file_path_tensor,target_tensor))"
   ]
  },
  {
   "cell_type": "code",
   "execution_count": 343,
   "metadata": {
    "execution": {
     "iopub.execute_input": "2024-06-10T16:54:02.988904Z",
     "iopub.status.busy": "2024-06-10T16:54:02.988569Z",
     "iopub.status.idle": "2024-06-10T16:54:02.997352Z",
     "shell.execute_reply": "2024-06-10T16:54:02.996166Z",
     "shell.execute_reply.started": "2024-06-10T16:54:02.988872Z"
    },
    "trusted": true
   },
   "outputs": [],
   "source": [
    "# dataset = dataset.shuffle(1024, seed=123)\n",
    "# dataset = dataset.batch(32, drop_remainder=True);\n",
    "# dataset  = dataset.prefetch(tf.data.experimental.AUTOTUNE)"
   ]
  },
  {
   "cell_type": "code",
   "execution_count": 344,
   "metadata": {
    "execution": {
     "iopub.execute_input": "2024-06-10T16:54:02.999029Z",
     "iopub.status.busy": "2024-06-10T16:54:02.998693Z",
     "iopub.status.idle": "2024-06-10T16:54:03.007658Z",
     "shell.execute_reply": "2024-06-10T16:54:03.006516Z",
     "shell.execute_reply.started": "2024-06-10T16:54:02.999000Z"
    },
    "trusted": true
   },
   "outputs": [],
   "source": [
    "# sample_ds = dataset.take(2)\n",
    "# it = iter(sample_ds)\n",
    "# print(next(it))"
   ]
  },
  {
   "cell_type": "code",
   "execution_count": 345,
   "metadata": {
    "execution": {
     "iopub.execute_input": "2024-06-10T16:54:03.009373Z",
     "iopub.status.busy": "2024-06-10T16:54:03.009049Z",
     "iopub.status.idle": "2024-06-10T16:54:03.020522Z",
     "shell.execute_reply": "2024-06-10T16:54:03.019240Z",
     "shell.execute_reply.started": "2024-06-10T16:54:03.009346Z"
    },
    "trusted": true
   },
   "outputs": [],
   "source": [
    "# @tf.function\n",
    "# def min_max_normalize(audio):\n",
    "#     max_val = tf.reduce_max(audio)\n",
    "#     min_val = tf.reduce_min(audio)\n",
    "#     return (audio - min_val) / (max_val - min_val) * 2.0 - 1.0"
   ]
  },
  {
   "cell_type": "code",
   "execution_count": 346,
   "metadata": {
    "execution": {
     "iopub.execute_input": "2024-06-10T16:54:03.022085Z",
     "iopub.status.busy": "2024-06-10T16:54:03.021786Z",
     "iopub.status.idle": "2024-06-10T16:54:03.032164Z",
     "shell.execute_reply": "2024-06-10T16:54:03.031080Z",
     "shell.execute_reply.started": "2024-06-10T16:54:03.022061Z"
    },
    "trusted": true
   },
   "outputs": [],
   "source": [
    "# def calculate_energy(audio, window_size=0.02):\n",
    "#     # Calculate energy of audio signal using sliding window approach\n",
    "#     audio = tf.expand_dims(audio, axis=0)\n",
    "#     window_length = int(window_size * audio.shape[0])\n",
    "#     # Square the audio signal\n",
    "#     squared_audio = tf.square(audio)\n",
    "#     # Calculate the energy of the audio signal using a sliding window approach\n",
    "#     energy = tf.nn.conv1d(squared_audio, tf.ones((window_length, 1, 1)), stride=1, padding='VALID')\n",
    "#     return energy\n",
    "\n",
    "# def determine_threshold(energy, percentile=90):\n",
    "#     # Determine threshold based on energy distribution\n",
    "#     threshold = tfp.stats.percentile(energy, percentile)\n",
    "#     return threshold\n"
   ]
  },
  {
   "cell_type": "code",
   "execution_count": 347,
   "metadata": {
    "execution": {
     "iopub.execute_input": "2024-06-10T16:54:03.034149Z",
     "iopub.status.busy": "2024-06-10T16:54:03.033720Z",
     "iopub.status.idle": "2024-06-10T16:54:03.043890Z",
     "shell.execute_reply": "2024-06-10T16:54:03.042547Z",
     "shell.execute_reply.started": "2024-06-10T16:54:03.034109Z"
    },
    "trusted": true
   },
   "outputs": [],
   "source": [
    "# @tf.function\n",
    "# def trim_audio(audio, threshold=0.1):\n",
    "#        # Calculate the energy of the audio signal\n",
    "#     energy = tf.reduce_sum(tf.square(audio), axis=-1)\n",
    "\n",
    "#     # Find the start and end indices of the active audio segments\n",
    "#     start_idx = tf.argmax(energy > threshold)\n",
    "#     end_idx = tf.argmax(energy[::-1] > threshold)\n",
    "\n",
    "#     # Trim the audio signal\n",
    "#     trimmed_audio = audio[start_idx:-end_idx]\n",
    "#     #print(trimmed_audio)\n",
    "#     return trimmed_audio"
   ]
  },
  {
   "cell_type": "code",
   "execution_count": 348,
   "metadata": {
    "execution": {
     "iopub.execute_input": "2024-06-10T16:54:03.046046Z",
     "iopub.status.busy": "2024-06-10T16:54:03.045525Z",
     "iopub.status.idle": "2024-06-10T16:54:03.055806Z",
     "shell.execute_reply": "2024-06-10T16:54:03.054729Z",
     "shell.execute_reply.started": "2024-06-10T16:54:03.045958Z"
    },
    "trusted": true
   },
   "outputs": [],
   "source": [
    "# @tf.function\n",
    "# def crop_or_pad(audio, target_len, pad_mode=\"constant\"):\n",
    "#     audio = tf.reshape(audio, [-1])  # Ensure audio is a 1-D tensor\n",
    "#     audio_len = tf.shape(audio)[0]\n",
    "    \n",
    "#     diff_len = tf.abs(target_len - audio_len)  # Find difference between target and audio length\n",
    "    \n",
    "#     if audio_len < target_len:  # Do padding if audio length is shorter\n",
    "#         pad1 = tf.random.uniform([], maxval=diff_len, dtype=tf.int32)\n",
    "#         pad2 = diff_len - pad1\n",
    "#         audio = tf.pad(audio, paddings=[[pad1, pad2]], mode=pad_mode)\n",
    "#     elif audio_len > target_len:  # Do cropping if audio length is larger\n",
    "#         idx = tf.random.uniform([], maxval=diff_len, dtype=tf.int32)\n",
    "#         audio = audio[idx : (idx + target_len)]\n",
    "    \n",
    "#     return tf.reshape(audio, [target_len])"
   ]
  },
  {
   "cell_type": "code",
   "execution_count": 349,
   "metadata": {
    "execution": {
     "iopub.execute_input": "2024-06-10T16:54:03.057499Z",
     "iopub.status.busy": "2024-06-10T16:54:03.057134Z",
     "iopub.status.idle": "2024-06-10T16:54:03.072658Z",
     "shell.execute_reply": "2024-06-10T16:54:03.071501Z",
     "shell.execute_reply.started": "2024-06-10T16:54:03.057470Z"
    },
    "trusted": true
   },
   "outputs": [],
   "source": [
    "# @tf.function\n",
    "# def apply_preproc(spec):\n",
    "#         # Standardize\n",
    "#         mean = tf.math.reduce_mean(spec)\n",
    "#         std = tf.math.reduce_std(spec)\n",
    "#         spec = tf.where(tf.math.equal(std, 0), spec - mean, (spec - mean) / std)\n",
    "        \n",
    "#         return min_max_normalize(spec)\n",
    "       "
   ]
  },
  {
   "cell_type": "code",
   "execution_count": 350,
   "metadata": {
    "execution": {
     "iopub.execute_input": "2024-06-10T16:54:03.074684Z",
     "iopub.status.busy": "2024-06-10T16:54:03.074275Z",
     "iopub.status.idle": "2024-06-10T16:54:03.083505Z",
     "shell.execute_reply": "2024-06-10T16:54:03.082254Z",
     "shell.execute_reply.started": "2024-06-10T16:54:03.074647Z"
    },
    "trusted": true
   },
   "outputs": [],
   "source": [
    "# import matplotlib.pyplot as plt\n"
   ]
  },
  {
   "cell_type": "code",
   "execution_count": 351,
   "metadata": {
    "execution": {
     "iopub.execute_input": "2024-06-10T16:54:03.085234Z",
     "iopub.status.busy": "2024-06-10T16:54:03.084859Z",
     "iopub.status.idle": "2024-06-10T16:54:03.093279Z",
     "shell.execute_reply": "2024-06-10T16:54:03.092030Z",
     "shell.execute_reply.started": "2024-06-10T16:54:03.085167Z"
    },
    "trusted": true
   },
   "outputs": [],
   "source": [
    "# @tf.function\n",
    "# def time_stretch(audio, factor_range=(0.8, 1.2)):\n",
    "#     factor = tf.random.uniform([], minval=factor_range[0], maxval=factor_range[1])\n",
    "#     #tf.print(\"Selected factor:\", factor) \n",
    "#     return tfio.audio.resample(audio, rate_in=CFG.sample_rate, rate_out=tf.cast(CFG.sample_rate * factor, tf.int64))"
   ]
  },
  {
   "cell_type": "code",
   "execution_count": 352,
   "metadata": {
    "execution": {
     "iopub.execute_input": "2024-06-10T16:54:03.095068Z",
     "iopub.status.busy": "2024-06-10T16:54:03.094564Z",
     "iopub.status.idle": "2024-06-10T16:54:03.104449Z",
     "shell.execute_reply": "2024-06-10T16:54:03.103151Z",
     "shell.execute_reply.started": "2024-06-10T16:54:03.095036Z"
    },
    "trusted": true
   },
   "outputs": [],
   "source": [
    "# @tf.function\n",
    "# def get_target(target):\n",
    "#         target = tf.reshape(target, [1])\n",
    "#         target = tf.cast(tf.one_hot(target, CFG.num_classes), tf.float32)\n",
    "#         target = tf.reshape(target, [CFG.num_classes])\n",
    "#         return target"
   ]
  },
  {
   "cell_type": "code",
   "execution_count": null,
   "metadata": {},
   "outputs": [],
   "source": []
  },
  {
   "cell_type": "code",
   "execution_count": 353,
   "metadata": {
    "execution": {
     "iopub.execute_input": "2024-06-10T16:54:03.106389Z",
     "iopub.status.busy": "2024-06-10T16:54:03.105909Z",
     "iopub.status.idle": "2024-06-10T16:54:03.119714Z",
     "shell.execute_reply": "2024-06-10T16:54:03.118261Z",
     "shell.execute_reply.started": "2024-06-10T16:54:03.106357Z"
    },
    "trusted": true
   },
   "outputs": [],
   "source": [
    "# mel_layer = tf.keras.layers.MelSpectrogram(\n",
    "#     num_mel_bins=CFG.img_size[0],\n",
    "#     fft_length=CFG.nfft,\n",
    "#     sequence_stride=CFG.hop_length,\n",
    "#     sampling_rate=CFG.sample_rate,\n",
    "# )\n",
    "\n",
    "# @tf.function\n",
    "# def pre_processing(file_name,augment):\n",
    "#     #tf.print(\"Start Preprocessing\") \n",
    "#     audio_data = tfio.audio.AudioIOTensor(file_name,dtype=tf.float32)\n",
    "#     audio_tensor = audio_data.to_tensor()\n",
    "#     #audio_tensor = tf.squeeze(audio_tensor, axis=[-1])\n",
    "#     #audio_tensor = min_max_normalize(audio_tensor)\n",
    "#     #audio_tensor = trim_audio(audio_tensor)\n",
    "# #     if augment:\n",
    "# #         if tf.random.uniform([]) < 0.35:\n",
    "# #             audio_tensor = time_stretch(audio_tensor)\n",
    "#     audio_tensor = crop_or_pad(audio_tensor,CFG.audio_len)\n",
    "#     audio_tensor =  tf.keras.layers.MelSpectrogram(\n",
    "#             num_mel_bins=CFG.img_size[0],\n",
    "#             fft_length=CFG.nfft,\n",
    "#             sequence_stride=CFG.hop_length,\n",
    "#             sampling_rate=CFG.sample_rate,\n",
    "#         )(audio_tensor)\n",
    "#     audio_tensor = apply_preproc(audio_tensor)\n",
    "#     #tf.print(\"End Preprocessing\") \n",
    "#     return audio_tensor\n",
    "    "
   ]
  },
  {
   "cell_type": "code",
   "execution_count": 354,
   "metadata": {
    "execution": {
     "iopub.execute_input": "2024-06-10T16:54:03.121845Z",
     "iopub.status.busy": "2024-06-10T16:54:03.120990Z",
     "iopub.status.idle": "2024-06-10T16:54:03.135608Z",
     "shell.execute_reply": "2024-06-10T16:54:03.133626Z",
     "shell.execute_reply.started": "2024-06-10T16:54:03.121813Z"
    },
    "trusted": true
   },
   "outputs": [],
   "source": [
    "# @tf.function \n",
    "# def decode_with_labels(path, label,augment):\n",
    "#         #tf.print(\"Start Deconding\") \n",
    "#         label = get_target(label)\n",
    "#         return pre_processing(path,augment), label"
   ]
  },
  {
   "cell_type": "code",
   "execution_count": 355,
   "metadata": {
    "execution": {
     "iopub.execute_input": "2024-06-10T16:54:03.137789Z",
     "iopub.status.busy": "2024-06-10T16:54:03.137328Z",
     "iopub.status.idle": "2024-06-10T16:54:03.149962Z",
     "shell.execute_reply": "2024-06-10T16:54:03.147957Z",
     "shell.execute_reply.started": "2024-06-10T16:54:03.137753Z"
    },
    "trusted": true
   },
   "outputs": [],
   "source": [
    "# @tf.function\n",
    "# def add_noise(audio, noise_factor=0.001):\n",
    "#     noise = tf.random.normal(tf.shape(audio), stddev=noise_factor)\n",
    "#     return audio + noise\n",
    "\n",
    "# @tf.function\n",
    "# def augment(data, label):\n",
    "# #     if tf.random.uniform([]) < 0.35:\n",
    "# #         data = add_noise(data)\n",
    "    \n",
    "#     data = tf.tile(data[..., None], [1, 1, 3])\n",
    "#     data = tf.reshape(data, [*CFG.img_size, 3])\n",
    "    \n",
    "# #     time_masking = keras_cv.layers.RandomCutout(height_factor=(1.0, 1.0),\n",
    "# #                                      width_factor=(0.06, 0.12))\n",
    "# #     frequency_masking = keras_cv.layers.RandomCutout(height_factor=(0.06, 0.1),\n",
    "# #                                      width_factor=(1.0, 1.0))\n",
    "    \n",
    "# #     if tf.random.uniform([]) < 0.35:\n",
    "# #             data = time_masking(data)\n",
    "    \n",
    "# #     if tf.random.uniform([]) < 0.35:\n",
    "# #             data = frequency_masking(data)\n",
    "    \n",
    "#     return data, label\n"
   ]
  },
  {
   "cell_type": "code",
   "execution_count": null,
   "metadata": {},
   "outputs": [],
   "source": []
  },
  {
   "cell_type": "code",
   "execution_count": 356,
   "metadata": {
    "execution": {
     "iopub.execute_input": "2024-06-10T16:54:03.163240Z",
     "iopub.status.busy": "2024-06-10T16:54:03.162541Z",
     "iopub.status.idle": "2024-06-10T16:54:03.168056Z",
     "shell.execute_reply": "2024-06-10T16:54:03.166842Z",
     "shell.execute_reply.started": "2024-06-10T16:54:03.163202Z"
    },
    "trusted": true
   },
   "outputs": [],
   "source": [
    "# @tf.function\n",
    "# def build_dataset(paths, labels=None, batch_size=16, \n",
    "#                    cache=True, shuffle=128,augment1=False):\n",
    "\n",
    "#     AUTO = tf.data.experimental.AUTOTUNE\n",
    "#     slices = (paths,) if labels is None else (paths, labels)\n",
    "#     ds = tf.data.Dataset.from_tensor_slices(slices)\n",
    "#     ds = ds.cache() if cache else ds\n",
    "#     if shuffle:\n",
    "#         opt = tf.data.Options()\n",
    "#         ds = ds.shuffle(shuffle, seed=CFG.seed)\n",
    "#         opt.experimental_deterministic = False\n",
    "#         ds = ds.with_options(opt)\n",
    "#     ds = ds.map(lambda file_name, label: decode_with_labels(file_name, label, augment=augment1), num_parallel_calls=AUTO)\n",
    "#     ds = ds.map(augment, num_parallel_calls=AUTO) if augment1 else ds\n",
    "#     ds = ds.batch(batch_size, drop_remainder=True)\n",
    "#     ds = ds.prefetch(AUTO)\n",
    "#     return ds"
   ]
  },
  {
   "cell_type": "code",
   "execution_count": 357,
   "metadata": {
    "execution": {
     "iopub.execute_input": "2024-06-10T16:54:03.170568Z",
     "iopub.status.busy": "2024-06-10T16:54:03.169615Z",
     "iopub.status.idle": "2024-06-10T16:54:03.178382Z",
     "shell.execute_reply": "2024-06-10T16:54:03.177115Z",
     "shell.execute_reply.started": "2024-06-10T16:54:03.170518Z"
    },
    "trusted": true
   },
   "outputs": [],
   "source": [
    "# a_t, rate = decode_with_labels('/kaggle/input/birdclef-2024/train_audio/asbfly/XC309402.ogg',1,True)"
   ]
  },
  {
   "cell_type": "code",
   "execution_count": 358,
   "metadata": {
    "execution": {
     "iopub.execute_input": "2024-06-10T16:54:03.180288Z",
     "iopub.status.busy": "2024-06-10T16:54:03.179847Z",
     "iopub.status.idle": "2024-06-10T16:54:03.189345Z",
     "shell.execute_reply": "2024-06-10T16:54:03.188150Z",
     "shell.execute_reply.started": "2024-06-10T16:54:03.180250Z"
    },
    "trusted": true
   },
   "outputs": [],
   "source": [
    "# at,rate = augment(a_t,rate)"
   ]
  },
  {
   "cell_type": "code",
   "execution_count": 359,
   "metadata": {
    "execution": {
     "iopub.execute_input": "2024-06-10T16:54:03.190920Z",
     "iopub.status.busy": "2024-06-10T16:54:03.190592Z",
     "iopub.status.idle": "2024-06-10T16:54:03.200791Z",
     "shell.execute_reply": "2024-06-10T16:54:03.199703Z",
     "shell.execute_reply.started": "2024-06-10T16:54:03.190890Z"
    },
    "trusted": true
   },
   "outputs": [],
   "source": [
    "# at"
   ]
  },
  {
   "cell_type": "code",
   "execution_count": 360,
   "metadata": {
    "execution": {
     "iopub.execute_input": "2024-06-10T16:54:03.202564Z",
     "iopub.status.busy": "2024-06-10T16:54:03.202216Z",
     "iopub.status.idle": "2024-06-10T16:54:03.212548Z",
     "shell.execute_reply": "2024-06-10T16:54:03.211287Z",
     "shell.execute_reply.started": "2024-06-10T16:54:03.202533Z"
    },
    "trusted": true
   },
   "outputs": [],
   "source": [
    "# # Import required packages\n",
    "# from sklearn.model_selection import train_test_split\n",
    "\n",
    "\n",
    "# tn_df, valid_df = train_test_split(train_df, test_size=0.02)\n",
    "\n",
    "# print(f\"Num Train: {len(train_df)} | Num Valid: {len(valid_df)}\")"
   ]
  },
  {
   "cell_type": "code",
   "execution_count": 361,
   "metadata": {
    "execution": {
     "iopub.execute_input": "2024-06-10T16:54:03.214352Z",
     "iopub.status.busy": "2024-06-10T16:54:03.213944Z",
     "iopub.status.idle": "2024-06-10T16:54:03.227876Z",
     "shell.execute_reply": "2024-06-10T16:54:03.226830Z",
     "shell.execute_reply.started": "2024-06-10T16:54:03.214321Z"
    },
    "trusted": true
   },
   "outputs": [],
   "source": [
    "# valid_df"
   ]
  },
  {
   "cell_type": "markdown",
   "metadata": {},
   "source": [
    "# Dataset Testing"
   ]
  },
  {
   "cell_type": "code",
   "execution_count": 362,
   "metadata": {
    "execution": {
     "iopub.execute_input": "2024-06-10T16:54:03.229899Z",
     "iopub.status.busy": "2024-06-10T16:54:03.229559Z",
     "iopub.status.idle": "2024-06-10T16:54:03.240765Z",
     "shell.execute_reply": "2024-06-10T16:54:03.239711Z",
     "shell.execute_reply.started": "2024-06-10T16:54:03.229871Z"
    },
    "trusted": true
   },
   "outputs": [],
   "source": [
    "# train_paths = tf.constant(valid_df.file_path.values)\n",
    "# train_labels = tf.constant(valid_df.target.values)"
   ]
  },
  {
   "cell_type": "code",
   "execution_count": 363,
   "metadata": {
    "execution": {
     "iopub.execute_input": "2024-06-10T16:54:03.242369Z",
     "iopub.status.busy": "2024-06-10T16:54:03.242026Z",
     "iopub.status.idle": "2024-06-10T16:54:03.253864Z",
     "shell.execute_reply": "2024-06-10T16:54:03.252110Z",
     "shell.execute_reply.started": "2024-06-10T16:54:03.242340Z"
    },
    "trusted": true
   },
   "outputs": [],
   "source": [
    "# train_labels"
   ]
  },
  {
   "cell_type": "code",
   "execution_count": 364,
   "metadata": {
    "execution": {
     "iopub.execute_input": "2024-06-10T16:54:03.256506Z",
     "iopub.status.busy": "2024-06-10T16:54:03.256084Z",
     "iopub.status.idle": "2024-06-10T16:54:03.266227Z",
     "shell.execute_reply": "2024-06-10T16:54:03.264792Z",
     "shell.execute_reply.started": "2024-06-10T16:54:03.256474Z"
    },
    "trusted": true
   },
   "outputs": [],
   "source": [
    "# AUTO = tf.data.experimental.AUTOTUNE"
   ]
  },
  {
   "cell_type": "code",
   "execution_count": 365,
   "metadata": {
    "execution": {
     "iopub.execute_input": "2024-06-10T16:54:03.268103Z",
     "iopub.status.busy": "2024-06-10T16:54:03.267620Z",
     "iopub.status.idle": "2024-06-10T16:54:03.277754Z",
     "shell.execute_reply": "2024-06-10T16:54:03.276599Z",
     "shell.execute_reply.started": "2024-06-10T16:54:03.268061Z"
    },
    "trusted": true
   },
   "outputs": [],
   "source": [
    "#boolean_tensor = tf.constant([True] * len(train_paths))"
   ]
  },
  {
   "cell_type": "code",
   "execution_count": 366,
   "metadata": {
    "execution": {
     "iopub.execute_input": "2024-06-10T16:54:03.279468Z",
     "iopub.status.busy": "2024-06-10T16:54:03.279128Z",
     "iopub.status.idle": "2024-06-10T16:54:03.291238Z",
     "shell.execute_reply": "2024-06-10T16:54:03.289913Z",
     "shell.execute_reply.started": "2024-06-10T16:54:03.279441Z"
    },
    "trusted": true
   },
   "outputs": [],
   "source": [
    "# train_paths = tf.constant(valid_df.file_path.values)\n",
    "# train_labels = tf.constant(valid_df.target.values)"
   ]
  },
  {
   "cell_type": "code",
   "execution_count": 367,
   "metadata": {
    "execution": {
     "iopub.execute_input": "2024-06-10T16:54:03.293210Z",
     "iopub.status.busy": "2024-06-10T16:54:03.292658Z",
     "iopub.status.idle": "2024-06-10T16:54:03.302261Z",
     "shell.execute_reply": "2024-06-10T16:54:03.300959Z",
     "shell.execute_reply.started": "2024-06-10T16:54:03.293150Z"
    },
    "trusted": true
   },
   "outputs": [],
   "source": [
    "# ds = tf.data.Dataset.from_tensor_slices((train_paths,train_labels))\n"
   ]
  },
  {
   "cell_type": "code",
   "execution_count": 368,
   "metadata": {
    "execution": {
     "iopub.execute_input": "2024-06-10T16:54:03.303951Z",
     "iopub.status.busy": "2024-06-10T16:54:03.303600Z",
     "iopub.status.idle": "2024-06-10T16:54:03.314083Z",
     "shell.execute_reply": "2024-06-10T16:54:03.312818Z",
     "shell.execute_reply.started": "2024-06-10T16:54:03.303920Z"
    },
    "trusted": true
   },
   "outputs": [],
   "source": [
    "# ds = ds.shuffle(30, seed=CFG.seed)"
   ]
  },
  {
   "cell_type": "code",
   "execution_count": 369,
   "metadata": {
    "execution": {
     "iopub.execute_input": "2024-06-10T16:54:03.316042Z",
     "iopub.status.busy": "2024-06-10T16:54:03.315656Z",
     "iopub.status.idle": "2024-06-10T16:54:03.325358Z",
     "shell.execute_reply": "2024-06-10T16:54:03.324202Z",
     "shell.execute_reply.started": "2024-06-10T16:54:03.316013Z"
    },
    "trusted": true
   },
   "outputs": [],
   "source": [
    "# ds = ds.map(lambda file_name, label: decode_with_labels(file_name, label, augment=True), num_parallel_calls=AUTO)"
   ]
  },
  {
   "cell_type": "code",
   "execution_count": 370,
   "metadata": {
    "execution": {
     "iopub.execute_input": "2024-06-10T16:54:03.326757Z",
     "iopub.status.busy": "2024-06-10T16:54:03.326406Z",
     "iopub.status.idle": "2024-06-10T16:54:03.337715Z",
     "shell.execute_reply": "2024-06-10T16:54:03.336378Z",
     "shell.execute_reply.started": "2024-06-10T16:54:03.326726Z"
    },
    "trusted": true
   },
   "outputs": [],
   "source": [
    "# ds = ds.map(augment, num_parallel_calls=AUTO)"
   ]
  },
  {
   "cell_type": "code",
   "execution_count": 371,
   "metadata": {
    "execution": {
     "iopub.execute_input": "2024-06-10T16:54:03.339401Z",
     "iopub.status.busy": "2024-06-10T16:54:03.339027Z",
     "iopub.status.idle": "2024-06-10T16:54:03.349651Z",
     "shell.execute_reply": "2024-06-10T16:54:03.348304Z",
     "shell.execute_reply.started": "2024-06-10T16:54:03.339370Z"
    },
    "trusted": true
   },
   "outputs": [],
   "source": [
    "# ds = ds.batch(32, drop_remainder=True)"
   ]
  },
  {
   "cell_type": "code",
   "execution_count": 372,
   "metadata": {
    "execution": {
     "iopub.execute_input": "2024-06-10T16:54:03.351586Z",
     "iopub.status.busy": "2024-06-10T16:54:03.351207Z",
     "iopub.status.idle": "2024-06-10T16:54:03.360058Z",
     "shell.execute_reply": "2024-06-10T16:54:03.358940Z",
     "shell.execute_reply.started": "2024-06-10T16:54:03.351557Z"
    },
    "trusted": true
   },
   "outputs": [],
   "source": [
    "\n",
    "#\n",
    "# ds = ds.prefetch(AUTO)"
   ]
  },
  {
   "cell_type": "code",
   "execution_count": 373,
   "metadata": {
    "execution": {
     "iopub.execute_input": "2024-06-10T16:54:03.361928Z",
     "iopub.status.busy": "2024-06-10T16:54:03.361406Z",
     "iopub.status.idle": "2024-06-10T16:54:03.369918Z",
     "shell.execute_reply": "2024-06-10T16:54:03.368754Z",
     "shell.execute_reply.started": "2024-06-10T16:54:03.361894Z"
    },
    "trusted": true
   },
   "outputs": [],
   "source": [
    "#ds"
   ]
  },
  {
   "cell_type": "code",
   "execution_count": 374,
   "metadata": {
    "execution": {
     "iopub.execute_input": "2024-06-10T16:54:03.371959Z",
     "iopub.status.busy": "2024-06-10T16:54:03.371512Z",
     "iopub.status.idle": "2024-06-10T16:54:03.380601Z",
     "shell.execute_reply": "2024-06-10T16:54:03.379408Z",
     "shell.execute_reply.started": "2024-06-10T16:54:03.371920Z"
    },
    "trusted": true
   },
   "outputs": [],
   "source": [
    "\n",
    "#next(de)"
   ]
  },
  {
   "cell_type": "code",
   "execution_count": 375,
   "metadata": {
    "execution": {
     "iopub.execute_input": "2024-06-10T16:54:03.382274Z",
     "iopub.status.busy": "2024-06-10T16:54:03.381910Z",
     "iopub.status.idle": "2024-06-10T16:54:03.391469Z",
     "shell.execute_reply": "2024-06-10T16:54:03.390276Z",
     "shell.execute_reply.started": "2024-06-10T16:54:03.382237Z"
    },
    "trusted": true
   },
   "outputs": [],
   "source": [
    "# for batch in valid_ds.take(1):\n",
    "#     images, labels = batch\n",
    "#     print(f'Images shape: {images.shape}')\n",
    "#     print(f'Labels shape: {labels.shape}')"
   ]
  },
  {
   "cell_type": "code",
   "execution_count": 376,
   "metadata": {
    "execution": {
     "iopub.execute_input": "2024-06-10T16:54:03.393725Z",
     "iopub.status.busy": "2024-06-10T16:54:03.393296Z",
     "iopub.status.idle": "2024-06-10T16:54:03.402223Z",
     "shell.execute_reply": "2024-06-10T16:54:03.401055Z",
     "shell.execute_reply.started": "2024-06-10T16:54:03.393686Z"
    },
    "trusted": true
   },
   "outputs": [],
   "source": [
    "#sd = ds.take(1)"
   ]
  },
  {
   "cell_type": "code",
   "execution_count": 377,
   "metadata": {
    "execution": {
     "iopub.execute_input": "2024-06-10T16:54:03.403889Z",
     "iopub.status.busy": "2024-06-10T16:54:03.403563Z",
     "iopub.status.idle": "2024-06-10T16:54:03.412371Z",
     "shell.execute_reply": "2024-06-10T16:54:03.411257Z",
     "shell.execute_reply.started": "2024-06-10T16:54:03.403860Z"
    },
    "trusted": true
   },
   "outputs": [],
   "source": [
    "# CFG.augment = True\n",
    "# train_paths = tf.constant(tn_df.file_path.values)\n",
    "# train_labels = tf.constant(tn_df.target.values)\n",
    "# train_ds = build_dataset(train_paths, train_labels,augment1=True,batch_size=CFG.batch_size)\n",
    "\n",
    "# # Valid\n",
    "# CFG.augment = False\n",
    "# valid_paths = tf.constant(valid_df.file_path.values)\n",
    "# valid_labels = tf.constant(valid_df.target.values)\n",
    "# valid_ds = build_dataset(valid_paths, valid_labels,batch_size = CFG.batch_size,augment1=True)"
   ]
  },
  {
   "cell_type": "markdown",
   "metadata": {},
   "source": [
    "# Traning"
   ]
  },
  {
   "cell_type": "code",
   "execution_count": null,
   "metadata": {
    "trusted": true
   },
   "outputs": [],
   "source": []
  },
  {
   "cell_type": "code",
   "execution_count": 378,
   "metadata": {
    "execution": {
     "iopub.execute_input": "2024-06-10T16:54:03.414637Z",
     "iopub.status.busy": "2024-06-10T16:54:03.414277Z",
     "iopub.status.idle": "2024-06-10T16:54:03.424240Z",
     "shell.execute_reply": "2024-06-10T16:54:03.422978Z",
     "shell.execute_reply.started": "2024-06-10T16:54:03.414610Z"
    },
    "trusted": true
   },
   "outputs": [],
   "source": [
    "# from tensorflow.keras.applications import EfficientNetV2B2\n",
    "# from tensorflow.keras.layers import Concatenate, Dense, GlobalAveragePooling2D\n",
    "# from tensorflow.keras.models import Model\n",
    "# from tensorflow.keras.layers import Input"
   ]
  },
  {
   "cell_type": "code",
   "execution_count": 379,
   "metadata": {
    "execution": {
     "iopub.execute_input": "2024-06-10T16:54:03.425868Z",
     "iopub.status.busy": "2024-06-10T16:54:03.425518Z",
     "iopub.status.idle": "2024-06-10T16:54:03.436168Z",
     "shell.execute_reply": "2024-06-10T16:54:03.435025Z",
     "shell.execute_reply.started": "2024-06-10T16:54:03.425839Z"
    },
    "trusted": true
   },
   "outputs": [],
   "source": [
    "# inp = keras.layers.Input(shape=(None, None, 3))\n",
    "# base_model = EfficientNetV2B2(include_top=False, weights='imagenet', input_shape=(None, None, 3))\n",
    "# base_model.trainable = False\n",
    "\n",
    "# x = base_model(inp)\n",
    "# x = GlobalAveragePooling2D()(x)\n",
    "# x= keras.layers.Dense(CFG.num_classes, activation='softmax')(x)\n",
    "\n",
    "# model = Model(inputs=inp , outputs=x)\n",
    "\n",
    "# # Compile the model\n",
    "# model.compile(optimizer=\"adam\",\n",
    "#              loss=keras.losses.CategoricalCrossentropy(label_smoothing=0.02),\n",
    "#               metrics=[keras.metrics.AUC(name='auc')],\n",
    "#              )\n",
    "# # Print the model summary\n",
    "# model.summary()"
   ]
  },
  {
   "cell_type": "code",
   "execution_count": 380,
   "metadata": {
    "execution": {
     "iopub.execute_input": "2024-06-10T16:54:03.437913Z",
     "iopub.status.busy": "2024-06-10T16:54:03.437557Z",
     "iopub.status.idle": "2024-06-10T16:54:03.450328Z",
     "shell.execute_reply": "2024-06-10T16:54:03.449265Z",
     "shell.execute_reply.started": "2024-06-10T16:54:03.437884Z"
    },
    "trusted": true
   },
   "outputs": [],
   "source": [
    "# # Create an input layer for the model\n",
    "# inp = keras.layers.Input(shape=(None, None, 3))\n",
    "# # Pretrained backbone\n",
    "# backbone = keras_cv.models.EfficientNetV2Backbone.from_preset(\n",
    "#     CFG.preset,\n",
    "# )\n",
    "# backbone.layers\n",
    "# out = keras_cv.models.ImageClassifier(\n",
    "#     backbone=backbone,\n",
    "#     num_classes=CFG.num_classes,\n",
    "#     name=\"classifier\"\n",
    "# )(inp)\n",
    "# # Build model\n",
    "# model = keras.models.Model(inputs=inp, outputs=out)\n",
    "\n",
    "# model.layers[-1].trainable = False\n",
    "    \n",
    "# # Compile model with optimizer, loss and metrics\n",
    "# model.compile(optimizer=\"adam\",\n",
    "#               loss=keras.losses.CategoricalCrossentropy(label_smoothing=0.02),\n",
    "#               metrics=[keras.metrics.AUC(name='auc')],\n",
    "#              )\n",
    "\n",
    "# print(\"Last three layers of the model:\")\n",
    "# # for layer in model.layers[-1]:\n",
    "# #     print(f\"Layer name: {layer.name}, Layer type: {type(layer)}, Trainable: {layer.trainable}\")\n",
    "\n",
    "# model.summary()"
   ]
  },
  {
   "cell_type": "code",
   "execution_count": 381,
   "metadata": {
    "execution": {
     "iopub.execute_input": "2024-06-10T16:54:03.452639Z",
     "iopub.status.busy": "2024-06-10T16:54:03.452213Z",
     "iopub.status.idle": "2024-06-10T16:54:03.461272Z",
     "shell.execute_reply": "2024-06-10T16:54:03.460069Z",
     "shell.execute_reply.started": "2024-06-10T16:54:03.452602Z"
    },
    "trusted": true
   },
   "outputs": [],
   "source": [
    "import matplotlib.pyplot as plt"
   ]
  },
  {
   "cell_type": "code",
   "execution_count": 382,
   "metadata": {
    "execution": {
     "iopub.execute_input": "2024-06-10T16:54:03.462798Z",
     "iopub.status.busy": "2024-06-10T16:54:03.462499Z",
     "iopub.status.idle": "2024-06-10T16:54:03.472886Z",
     "shell.execute_reply": "2024-06-10T16:54:03.471826Z",
     "shell.execute_reply.started": "2024-06-10T16:54:03.462773Z"
    },
    "trusted": true
   },
   "outputs": [],
   "source": [
    "# import math\n",
    "\n",
    "# def get_lr_callback(batch_size=8, mode='cos', epochs=10, plot=False):\n",
    "#     lr_start, lr_max, lr_min = 5e-5, 8e-6 * batch_size, 1e-5\n",
    "#     lr_ramp_ep, lr_sus_ep, lr_decay = 3, 0, 0.75\n",
    "\n",
    "#     def lrfn(epoch):  # Learning rate update function\n",
    "#         if epoch < lr_ramp_ep: lr = (lr_max - lr_start) / lr_ramp_ep * epoch + lr_start\n",
    "#         elif epoch < lr_ramp_ep + lr_sus_ep: lr = lr_max\n",
    "#         elif mode == 'exp': lr = (lr_max - lr_min) * lr_decay**(epoch - lr_ramp_ep - lr_sus_ep) + lr_min\n",
    "#         elif mode == 'step': lr = lr_max * lr_decay**((epoch - lr_ramp_ep - lr_sus_ep) // 2)\n",
    "#         elif mode == 'cos':\n",
    "#             decay_total_epochs, decay_epoch_index = epochs - lr_ramp_ep - lr_sus_ep + 3, epoch - lr_ramp_ep - lr_sus_ep\n",
    "#             phase = math.pi * decay_epoch_index / decay_total_epochs\n",
    "#             lr = (lr_max - lr_min) * 0.5 * (1 + math.cos(phase)) + lr_min\n",
    "#         return lr\n",
    "\n",
    "#     if plot:  # Plot lr curve if plot is True\n",
    "#         plt.figure(figsize=(10, 5))\n",
    "#         plt.plot(np.arange(epochs), [lrfn(epoch) for epoch in np.arange(epochs)], marker='o')\n",
    "#         plt.xlabel('epoch'); plt.ylabel('lr')\n",
    "#         plt.title('LR Scheduler')\n",
    "#         plt.show()\n",
    "\n",
    "#     return keras.callbacks.LearningRateScheduler(lrfn, verbose=False)  # Create lr callback"
   ]
  },
  {
   "cell_type": "code",
   "execution_count": 383,
   "metadata": {
    "execution": {
     "iopub.execute_input": "2024-06-10T16:54:03.474717Z",
     "iopub.status.busy": "2024-06-10T16:54:03.474379Z",
     "iopub.status.idle": "2024-06-10T16:54:03.489260Z",
     "shell.execute_reply": "2024-06-10T16:54:03.487440Z",
     "shell.execute_reply.started": "2024-06-10T16:54:03.474689Z"
    },
    "trusted": true
   },
   "outputs": [],
   "source": [
    "# lr_cb = get_lr_callback(CFG.batch_size, plot=True)"
   ]
  },
  {
   "cell_type": "code",
   "execution_count": 384,
   "metadata": {
    "execution": {
     "iopub.execute_input": "2024-06-10T16:54:03.491162Z",
     "iopub.status.busy": "2024-06-10T16:54:03.490781Z",
     "iopub.status.idle": "2024-06-10T16:54:03.500161Z",
     "shell.execute_reply": "2024-06-10T16:54:03.498949Z",
     "shell.execute_reply.started": "2024-06-10T16:54:03.491131Z"
    },
    "trusted": true
   },
   "outputs": [],
   "source": [
    "ckpt_cb = keras.callbacks.ModelCheckpoint(\"best_model.weights.h5\",\n",
    "                                         monitor='val_auc',\n",
    "                                         save_weights_only=True,\n",
    "                                         mode='max')"
   ]
  },
  {
   "cell_type": "code",
   "execution_count": 385,
   "metadata": {
    "execution": {
     "iopub.execute_input": "2024-06-10T16:54:03.501896Z",
     "iopub.status.busy": "2024-06-10T16:54:03.501554Z",
     "iopub.status.idle": "2024-06-10T16:54:03.511555Z",
     "shell.execute_reply": "2024-06-10T16:54:03.510543Z",
     "shell.execute_reply.started": "2024-06-10T16:54:03.501867Z"
    },
    "trusted": true
   },
   "outputs": [],
   "source": [
    "# valid_ds"
   ]
  },
  {
   "cell_type": "code",
   "execution_count": 386,
   "metadata": {
    "execution": {
     "iopub.execute_input": "2024-06-10T16:54:03.513783Z",
     "iopub.status.busy": "2024-06-10T16:54:03.512988Z",
     "iopub.status.idle": "2024-06-10T16:54:03.525093Z",
     "shell.execute_reply": "2024-06-10T16:54:03.523792Z",
     "shell.execute_reply.started": "2024-06-10T16:54:03.513747Z"
    },
    "trusted": true
   },
   "outputs": [],
   "source": [
    "# if gpus:\n",
    "#     history = model.fit(\n",
    "#         valid_ds, \n",
    "#         epochs=CFG.epochs,\n",
    "#         verbose=1\n",
    "#     )"
   ]
  },
  {
   "cell_type": "code",
   "execution_count": 387,
   "metadata": {
    "execution": {
     "iopub.execute_input": "2024-06-10T16:54:03.526987Z",
     "iopub.status.busy": "2024-06-10T16:54:03.526621Z",
     "iopub.status.idle": "2024-06-10T16:54:03.535357Z",
     "shell.execute_reply": "2024-06-10T16:54:03.534231Z",
     "shell.execute_reply.started": "2024-06-10T16:54:03.526958Z"
    },
    "trusted": true
   },
   "outputs": [],
   "source": [
    "# model.predict(valid_ds)"
   ]
  },
  {
   "cell_type": "markdown",
   "metadata": {},
   "source": []
  },
  {
   "cell_type": "code",
   "execution_count": 388,
   "metadata": {
    "execution": {
     "iopub.execute_input": "2024-06-10T16:54:03.537119Z",
     "iopub.status.busy": "2024-06-10T16:54:03.536765Z",
     "iopub.status.idle": "2024-06-10T16:54:03.546826Z",
     "shell.execute_reply": "2024-06-10T16:54:03.545597Z",
     "shell.execute_reply.started": "2024-06-10T16:54:03.537090Z"
    },
    "trusted": true
   },
   "outputs": [],
   "source": [
    "# import librosa.display as lid"
   ]
  },
  {
   "cell_type": "code",
   "execution_count": 389,
   "metadata": {
    "execution": {
     "iopub.execute_input": "2024-06-10T16:54:03.548905Z",
     "iopub.status.busy": "2024-06-10T16:54:03.548330Z",
     "iopub.status.idle": "2024-06-10T16:54:03.558218Z",
     "shell.execute_reply": "2024-06-10T16:54:03.557072Z",
     "shell.execute_reply.started": "2024-06-10T16:54:03.548875Z"
    },
    "trusted": true
   },
   "outputs": [],
   "source": [
    "# def plot_batch(batch, row=3, col=3, label2name=None,):\n",
    "#     \"\"\"Plot one batch data\"\"\"\n",
    "#     if isinstance(batch, tuple) or isinstance(batch, list):\n",
    "#         specs, tars = batch\n",
    "#     else:\n",
    "#         specs = batch\n",
    "#         tars = None\n",
    "#     plt.figure(figsize=(col*5, row*3))\n",
    "#     for idx in range(row*col):\n",
    "#         ax = plt.subplot(row, col, idx+1)\n",
    "#         lid.specshow(np.array(specs[idx, ..., 0]), \n",
    "#                      n_fft=CFG.nfft, \n",
    "#                      hop_length=CFG.hop_length, \n",
    "#                      sr=CFG.sample_rate,\n",
    "#                      x_axis='time',\n",
    "#                      y_axis='mel',\n",
    "#                      cmap='coolwarm')\n",
    "#         if tars is not None:\n",
    "#             label = tars[idx].numpy().argmax()\n",
    "#             name = label2name[label]\n",
    "#             plt.title(name)\n",
    "#     plt.tight_layout()\n",
    "#     plt.show()"
   ]
  },
  {
   "cell_type": "code",
   "execution_count": 390,
   "metadata": {
    "execution": {
     "iopub.execute_input": "2024-06-10T16:54:03.559834Z",
     "iopub.status.busy": "2024-06-10T16:54:03.559522Z",
     "iopub.status.idle": "2024-06-10T16:54:03.572763Z",
     "shell.execute_reply": "2024-06-10T16:54:03.571524Z",
     "shell.execute_reply.started": "2024-06-10T16:54:03.559808Z"
    },
    "trusted": true
   },
   "outputs": [],
   "source": [
    "# CFG.augment = False"
   ]
  },
  {
   "cell_type": "code",
   "execution_count": 391,
   "metadata": {
    "execution": {
     "iopub.execute_input": "2024-06-10T16:54:03.575121Z",
     "iopub.status.busy": "2024-06-10T16:54:03.574679Z",
     "iopub.status.idle": "2024-06-10T16:54:03.584812Z",
     "shell.execute_reply": "2024-06-10T16:54:03.583378Z",
     "shell.execute_reply.started": "2024-06-10T16:54:03.575081Z"
    },
    "trusted": true
   },
   "outputs": [],
   "source": [
    "#sample_ds = train_ds.take(1)"
   ]
  },
  {
   "cell_type": "code",
   "execution_count": 392,
   "metadata": {
    "execution": {
     "iopub.execute_input": "2024-06-10T16:54:03.586694Z",
     "iopub.status.busy": "2024-06-10T16:54:03.586342Z",
     "iopub.status.idle": "2024-06-10T16:54:03.595631Z",
     "shell.execute_reply": "2024-06-10T16:54:03.594523Z",
     "shell.execute_reply.started": "2024-06-10T16:54:03.586666Z"
    },
    "trusted": true
   },
   "outputs": [],
   "source": [
    "#next(iter(sample_ds))"
   ]
  },
  {
   "cell_type": "code",
   "execution_count": 393,
   "metadata": {
    "execution": {
     "iopub.execute_input": "2024-06-10T16:54:03.597323Z",
     "iopub.status.busy": "2024-06-10T16:54:03.596975Z",
     "iopub.status.idle": "2024-06-10T16:54:03.607149Z",
     "shell.execute_reply": "2024-06-10T16:54:03.605933Z",
     "shell.execute_reply.started": "2024-06-10T16:54:03.597295Z"
    },
    "trusted": true
   },
   "outputs": [],
   "source": [
    "# s = valid_ds.take(1)\n",
    "# de = iter(s)\n",
    "# sr = next(de)\n",
    "# plot_batch(sr, label2name=CFG.label2name)"
   ]
  },
  {
   "cell_type": "code",
   "execution_count": 394,
   "metadata": {
    "execution": {
     "iopub.execute_input": "2024-06-10T16:54:03.608780Z",
     "iopub.status.busy": "2024-06-10T16:54:03.608474Z",
     "iopub.status.idle": "2024-06-10T16:54:03.617845Z",
     "shell.execute_reply": "2024-06-10T16:54:03.616762Z",
     "shell.execute_reply.started": "2024-06-10T16:54:03.608755Z"
    },
    "trusted": true
   },
   "outputs": [],
   "source": [
    "# plt.figure()\n",
    "# plt.plot(ag.numpy())"
   ]
  },
  {
   "cell_type": "code",
   "execution_count": 395,
   "metadata": {
    "execution": {
     "iopub.execute_input": "2024-06-10T16:54:03.619612Z",
     "iopub.status.busy": "2024-06-10T16:54:03.619282Z",
     "iopub.status.idle": "2024-06-10T16:54:03.628588Z",
     "shell.execute_reply": "2024-06-10T16:54:03.627252Z",
     "shell.execute_reply.started": "2024-06-10T16:54:03.619586Z"
    },
    "trusted": true
   },
   "outputs": [],
   "source": [
    "# trimmed_audio  = trim_audio(a_t)"
   ]
  },
  {
   "cell_type": "code",
   "execution_count": 396,
   "metadata": {
    "execution": {
     "iopub.execute_input": "2024-06-10T16:54:03.630943Z",
     "iopub.status.busy": "2024-06-10T16:54:03.630039Z",
     "iopub.status.idle": "2024-06-10T16:54:03.644360Z",
     "shell.execute_reply": "2024-06-10T16:54:03.643281Z",
     "shell.execute_reply.started": "2024-06-10T16:54:03.630900Z"
    },
    "trusted": true
   },
   "outputs": [],
   "source": [
    "# plt.figure()\n",
    "# plt.plot(trimmed_audio.numpy())"
   ]
  },
  {
   "cell_type": "code",
   "execution_count": 397,
   "metadata": {
    "execution": {
     "iopub.execute_input": "2024-06-10T16:54:03.646049Z",
     "iopub.status.busy": "2024-06-10T16:54:03.645731Z",
     "iopub.status.idle": "2024-06-10T16:54:03.654573Z",
     "shell.execute_reply": "2024-06-10T16:54:03.653287Z",
     "shell.execute_reply.started": "2024-06-10T16:54:03.646021Z"
    },
    "trusted": true
   },
   "outputs": [],
   "source": [
    "# a_t.shape"
   ]
  },
  {
   "cell_type": "code",
   "execution_count": 398,
   "metadata": {
    "execution": {
     "iopub.execute_input": "2024-06-10T16:54:03.655937Z",
     "iopub.status.busy": "2024-06-10T16:54:03.655634Z",
     "iopub.status.idle": "2024-06-10T16:54:03.667891Z",
     "shell.execute_reply": "2024-06-10T16:54:03.666817Z",
     "shell.execute_reply.started": "2024-06-10T16:54:03.655913Z"
    },
    "trusted": true
   },
   "outputs": [],
   "source": [
    "# a_t = tf.squeeze(trimmed_audio, axis=[-1])"
   ]
  },
  {
   "cell_type": "code",
   "execution_count": 399,
   "metadata": {
    "execution": {
     "iopub.execute_input": "2024-06-10T16:54:03.669788Z",
     "iopub.status.busy": "2024-06-10T16:54:03.669428Z",
     "iopub.status.idle": "2024-06-10T16:54:03.689828Z",
     "shell.execute_reply": "2024-06-10T16:54:03.688064Z",
     "shell.execute_reply.started": "2024-06-10T16:54:03.669758Z"
    },
    "trusted": true
   },
   "outputs": [],
   "source": [
    "# from IPython.display import Audio\n",
    "\n",
    "# Audio(a_t.numpy(), rate=rate.numpy())"
   ]
  },
  {
   "cell_type": "markdown",
   "metadata": {},
   "source": [
    "## Remove background noise"
   ]
  },
  {
   "cell_type": "code",
   "execution_count": 400,
   "metadata": {
    "execution": {
     "iopub.execute_input": "2024-06-10T16:54:03.692852Z",
     "iopub.status.busy": "2024-06-10T16:54:03.692308Z",
     "iopub.status.idle": "2024-06-10T16:54:03.705883Z",
     "shell.execute_reply": "2024-06-10T16:54:03.703686Z",
     "shell.execute_reply.started": "2024-06-10T16:54:03.692717Z"
    },
    "trusted": true
   },
   "outputs": [],
   "source": [
    "# !pip install pywavelets"
   ]
  },
  {
   "cell_type": "code",
   "execution_count": 401,
   "metadata": {
    "execution": {
     "iopub.execute_input": "2024-06-10T16:54:03.708494Z",
     "iopub.status.busy": "2024-06-10T16:54:03.707639Z",
     "iopub.status.idle": "2024-06-10T16:54:03.722443Z",
     "shell.execute_reply": "2024-06-10T16:54:03.721253Z",
     "shell.execute_reply.started": "2024-06-10T16:54:03.708441Z"
    },
    "trusted": true
   },
   "outputs": [],
   "source": [
    "# import pywt\n",
    "\n",
    "# def wavelet_denoising(audio_signal, wavelet='db4', level=1, threshold_mode='soft', threshold_value=0.1):\n",
    "#     # Decompose audio signal into wavelet coefficients\n",
    "#     coeffs = pywt.wavedec(audio_signal.numpy(), wavelet, level=level)\n",
    "    \n",
    "#     # Apply thresholding to each detail coefficient\n",
    "#     for i in range(1, len(coeffs)):\n",
    "#         coeffs[i] = pywt.threshold(coeffs[i], threshold_value, mode=threshold_mode)\n",
    "    \n",
    "#     # Reconstruct denoised signal from thresholded coefficients\n",
    "#     denoised_signal = pywt.waverec(coeffs, wavelet)\n",
    "    \n",
    "#     return tf.convert_to_tensor(denoised_signal, dtype=tf.float32)"
   ]
  },
  {
   "cell_type": "code",
   "execution_count": 402,
   "metadata": {
    "execution": {
     "iopub.execute_input": "2024-06-10T16:54:03.725450Z",
     "iopub.status.busy": "2024-06-10T16:54:03.724374Z",
     "iopub.status.idle": "2024-06-10T16:54:03.736525Z",
     "shell.execute_reply": "2024-06-10T16:54:03.734716Z",
     "shell.execute_reply.started": "2024-06-10T16:54:03.725403Z"
    },
    "trusted": true
   },
   "outputs": [],
   "source": [
    "# denoised_signal = wavelet_denoising(a_t,level=4)"
   ]
  },
  {
   "cell_type": "code",
   "execution_count": 403,
   "metadata": {
    "execution": {
     "iopub.execute_input": "2024-06-10T16:54:03.737932Z",
     "iopub.status.busy": "2024-06-10T16:54:03.737610Z",
     "iopub.status.idle": "2024-06-10T16:54:03.753838Z",
     "shell.execute_reply": "2024-06-10T16:54:03.752417Z",
     "shell.execute_reply.started": "2024-06-10T16:54:03.737902Z"
    },
    "trusted": true
   },
   "outputs": [],
   "source": [
    "# plt.figure()\n",
    "# plt.plot(trimmed_audio.numpy())"
   ]
  },
  {
   "cell_type": "code",
   "execution_count": 404,
   "metadata": {
    "execution": {
     "iopub.execute_input": "2024-06-10T16:54:03.755589Z",
     "iopub.status.busy": "2024-06-10T16:54:03.755223Z",
     "iopub.status.idle": "2024-06-10T16:54:03.768144Z",
     "shell.execute_reply": "2024-06-10T16:54:03.766612Z",
     "shell.execute_reply.started": "2024-06-10T16:54:03.755559Z"
    },
    "trusted": true
   },
   "outputs": [],
   "source": [
    "# from IPython.display import Audio\n",
    "\n",
    "# Audio(denoised_signal.numpy(), rate=rate.numpy())"
   ]
  },
  {
   "cell_type": "code",
   "execution_count": 405,
   "metadata": {
    "execution": {
     "iopub.execute_input": "2024-06-10T16:54:03.771296Z",
     "iopub.status.busy": "2024-06-10T16:54:03.769984Z",
     "iopub.status.idle": "2024-06-10T16:54:03.787860Z",
     "shell.execute_reply": "2024-06-10T16:54:03.786152Z",
     "shell.execute_reply.started": "2024-06-10T16:54:03.771240Z"
    },
    "trusted": true
   },
   "outputs": [],
   "source": [
    "# plt.figure()\n",
    "# plt.plot(denoised_signal.numpy())"
   ]
  },
  {
   "cell_type": "code",
   "execution_count": 406,
   "metadata": {
    "execution": {
     "iopub.execute_input": "2024-06-10T16:54:03.789646Z",
     "iopub.status.busy": "2024-06-10T16:54:03.789302Z",
     "iopub.status.idle": "2024-06-10T16:54:03.809683Z",
     "shell.execute_reply": "2024-06-10T16:54:03.807908Z",
     "shell.execute_reply.started": "2024-06-10T16:54:03.789616Z"
    },
    "trusted": true
   },
   "outputs": [],
   "source": [
    "# plt.figure()\n",
    "# plt.plot(trimmed_audio.numpy())"
   ]
  }
 ],
 "metadata": {
  "kaggle": {
   "accelerator": "none",
   "dataSources": [
    {
     "databundleVersionId": 8068726,
     "sourceId": 70203,
     "sourceType": "competition"
    },
    {
     "modelInstanceId": 4618,
     "sourceId": 6113,
     "sourceType": "modelInstanceVersion"
    },
    {
     "modelInstanceId": 4598,
     "sourceId": 6127,
     "sourceType": "modelInstanceVersion"
    },
    {
     "modelInstanceId": 52958,
     "sourceId": 63513,
     "sourceType": "modelInstanceVersion"
    }
   ],
   "dockerImageVersionId": 30716,
   "isGpuEnabled": false,
   "isInternetEnabled": true,
   "language": "python",
   "sourceType": "notebook"
  },
  "kernelspec": {
   "display_name": "Python 3",
   "language": "python",
   "name": "python3"
  },
  "language_info": {
   "codemirror_mode": {
    "name": "ipython",
    "version": 3
   },
   "file_extension": ".py",
   "mimetype": "text/x-python",
   "name": "python",
   "nbconvert_exporter": "python",
   "pygments_lexer": "ipython3",
   "version": "3.10.13"
  }
 },
 "nbformat": 4,
 "nbformat_minor": 4
}
